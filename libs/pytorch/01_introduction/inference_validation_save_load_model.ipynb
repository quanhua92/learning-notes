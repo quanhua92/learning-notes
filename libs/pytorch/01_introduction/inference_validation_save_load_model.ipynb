{
 "cells": [
  {
   "cell_type": "code",
   "execution_count": 3,
   "metadata": {},
   "outputs": [],
   "source": [
    "import torch\n",
    "import numpy as np\n",
    "\n",
    "import matplotlib.pyplot as plt\n",
    "\n",
    "import torch.nn.functional as F\n",
    "\n",
    "from torch import nn, optim\n",
    "\n",
    "from torchvision import datasets, transforms"
   ]
  },
  {
   "cell_type": "markdown",
   "metadata": {},
   "source": [
    "# Prepare data"
   ]
  },
  {
   "cell_type": "code",
   "execution_count": 2,
   "metadata": {},
   "outputs": [],
   "source": [
    "# Define a transform to normalize the data\n",
    "transform = transforms.Compose([transforms.ToTensor(),\n",
    "                                transforms.Normalize((0.5, 0.5, 0.5), (0.5, 0.5, 0.5)),\n",
    "                               ])\n",
    "\n",
    "# Download and load the training data\n",
    "trainset = datasets.FashionMNIST(\"FashionMNIST_data/\", download=True, train=True, transform=transform)\n",
    "trainloader = torch.utils.data.DataLoader(trainset, batch_size=64, shuffle=True)\n",
    "\n",
    "# Download and load the test data\n",
    "testset = datasets.FashionMNIST(\"FashionMNIST_data/\", download=True, train=False, transform=transform)\n",
    "testloader = torch.utils.data.DataLoader(testset, batch_size=64, shuffle=True)"
   ]
  },
  {
   "cell_type": "code",
   "execution_count": 4,
   "metadata": {},
   "outputs": [],
   "source": [
    "class Classifier(nn.Module):\n",
    "    def __init__(self):\n",
    "        super().__init__()\n",
    "        self.fc1 = nn.Linear(784, 256)\n",
    "        self.fc2 = nn.Linear(256, 128)\n",
    "        self.fc3 = nn.Linear(128, 64)\n",
    "        self.fc4 = nn.Linear(64, 10)\n",
    "    \n",
    "    def forward(self, x):\n",
    "        # make sure input tensor is flattened\n",
    "        x = x.view(x.shape[0], -1)\n",
    "        \n",
    "        x = F.relu(self.fc1(x))\n",
    "        x = F.relu(self.fc2(x))\n",
    "        x = F.relu(self.fc3(x))\n",
    "        x = F.log_softmax(self.fc4(x), dim=1)\n",
    "        \n",
    "        return x"
   ]
  },
  {
   "cell_type": "code",
   "execution_count": 5,
   "metadata": {},
   "outputs": [
    {
     "name": "stdout",
     "output_type": "stream",
     "text": [
      "torch.Size([64, 10])\n"
     ]
    }
   ],
   "source": [
    "model = Classifier()\n",
    "\n",
    "images, labels = next(iter(testloader))\n",
    "\n",
    "# Get the class probs\n",
    "ps = torch.exp(model(images))\n",
    "\n",
    "print(ps.shape)"
   ]
  },
  {
   "cell_type": "code",
   "execution_count": 10,
   "metadata": {},
   "outputs": [
    {
     "name": "stdout",
     "output_type": "stream",
     "text": [
      "tensor([[4],\n",
      "        [4],\n",
      "        [2],\n",
      "        [4],\n",
      "        [3],\n",
      "        [4],\n",
      "        [2],\n",
      "        [2],\n",
      "        [2],\n",
      "        [4]])\n"
     ]
    }
   ],
   "source": [
    "top_p, top_class = ps.topk(1, dim=1)\n",
    "\n",
    "print(top_class[:10, :])"
   ]
  },
  {
   "cell_type": "code",
   "execution_count": 11,
   "metadata": {},
   "outputs": [],
   "source": [
    "equals = top_class == labels.view(*top_class.shape)"
   ]
  },
  {
   "cell_type": "code",
   "execution_count": 12,
   "metadata": {},
   "outputs": [
    {
     "name": "stdout",
     "output_type": "stream",
     "text": [
      "tensor([[0],\n",
      "        [0],\n",
      "        [0],\n",
      "        [0],\n",
      "        [0],\n",
      "        [0],\n",
      "        [0],\n",
      "        [1],\n",
      "        [0],\n",
      "        [0]], dtype=torch.uint8)\n"
     ]
    }
   ],
   "source": [
    "print(equals[:10, :])"
   ]
  },
  {
   "cell_type": "code",
   "execution_count": 14,
   "metadata": {},
   "outputs": [
    {
     "name": "stdout",
     "output_type": "stream",
     "text": [
      "Accuracy 14.0625 %\n"
     ]
    }
   ],
   "source": [
    "accuracy = torch.mean(equals.type(torch.FloatTensor))\n",
    "\n",
    "print(f\"Accuracy {accuracy.item() * 100} %\")"
   ]
  },
  {
   "cell_type": "markdown",
   "metadata": {},
   "source": [
    "# Actually train the network"
   ]
  },
  {
   "cell_type": "code",
   "execution_count": 23,
   "metadata": {},
   "outputs": [],
   "source": [
    "model = Classifier()\n",
    "criterion = nn.NLLLoss()\n",
    "optimizer = optim.Adam(model.parameters(), lr=0.003)"
   ]
  },
  {
   "cell_type": "code",
   "execution_count": 24,
   "metadata": {},
   "outputs": [
    {
     "name": "stdout",
     "output_type": "stream",
     "text": [
      "Epoch: 1/30..\n",
      "Training loss: 0.514\n",
      "Test loss: 0.447\n",
      "Test Accuracy: 0.840\n",
      "Epoch: 2/30..\n",
      "Training loss: 0.390\n",
      "Test loss: 0.412\n",
      "Test Accuracy: 0.847\n",
      "Epoch: 3/30..\n",
      "Training loss: 0.354\n",
      "Test loss: 0.390\n",
      "Test Accuracy: 0.857\n",
      "Epoch: 4/30..\n",
      "Training loss: 0.332\n",
      "Test loss: 0.393\n",
      "Test Accuracy: 0.858\n",
      "Epoch: 5/30..\n",
      "Training loss: 0.316\n",
      "Test loss: 0.361\n",
      "Test Accuracy: 0.871\n",
      "Epoch: 6/30..\n",
      "Training loss: 0.303\n",
      "Test loss: 0.359\n",
      "Test Accuracy: 0.876\n",
      "Epoch: 7/30..\n",
      "Training loss: 0.286\n",
      "Test loss: 0.384\n",
      "Test Accuracy: 0.864\n",
      "Epoch: 8/30..\n",
      "Training loss: 0.283\n",
      "Test loss: 0.376\n",
      "Test Accuracy: 0.873\n",
      "Epoch: 9/30..\n",
      "Training loss: 0.273\n",
      "Test loss: 0.372\n",
      "Test Accuracy: 0.872\n",
      "Epoch: 10/30..\n",
      "Training loss: 0.265\n",
      "Test loss: 0.365\n",
      "Test Accuracy: 0.872\n",
      "Epoch: 11/30..\n",
      "Training loss: 0.258\n",
      "Test loss: 0.376\n",
      "Test Accuracy: 0.877\n",
      "Epoch: 12/30..\n",
      "Training loss: 0.252\n",
      "Test loss: 0.371\n",
      "Test Accuracy: 0.873\n",
      "Epoch: 13/30..\n",
      "Training loss: 0.246\n",
      "Test loss: 0.390\n",
      "Test Accuracy: 0.876\n",
      "Epoch: 14/30..\n",
      "Training loss: 0.243\n",
      "Test loss: 0.364\n",
      "Test Accuracy: 0.877\n",
      "Epoch: 15/30..\n",
      "Training loss: 0.235\n",
      "Test loss: 0.350\n",
      "Test Accuracy: 0.884\n",
      "Epoch: 16/30..\n",
      "Training loss: 0.230\n",
      "Test loss: 0.378\n",
      "Test Accuracy: 0.880\n",
      "Epoch: 17/30..\n",
      "Training loss: 0.219\n",
      "Test loss: 0.404\n",
      "Test Accuracy: 0.879\n",
      "Epoch: 18/30..\n",
      "Training loss: 0.220\n",
      "Test loss: 0.373\n",
      "Test Accuracy: 0.883\n",
      "Epoch: 19/30..\n",
      "Training loss: 0.216\n",
      "Test loss: 0.386\n",
      "Test Accuracy: 0.877\n",
      "Epoch: 20/30..\n",
      "Training loss: 0.212\n",
      "Test loss: 0.389\n",
      "Test Accuracy: 0.879\n",
      "Epoch: 21/30..\n",
      "Training loss: 0.212\n",
      "Test loss: 0.371\n",
      "Test Accuracy: 0.883\n",
      "Epoch: 22/30..\n",
      "Training loss: 0.203\n",
      "Test loss: 0.416\n",
      "Test Accuracy: 0.876\n",
      "Epoch: 23/30..\n",
      "Training loss: 0.203\n",
      "Test loss: 0.388\n",
      "Test Accuracy: 0.885\n",
      "Epoch: 24/30..\n",
      "Training loss: 0.195\n",
      "Test loss: 0.421\n",
      "Test Accuracy: 0.880\n",
      "Epoch: 25/30..\n",
      "Training loss: 0.195\n",
      "Test loss: 0.399\n",
      "Test Accuracy: 0.884\n",
      "Epoch: 26/30..\n",
      "Training loss: 0.188\n",
      "Test loss: 0.413\n",
      "Test Accuracy: 0.881\n",
      "Epoch: 27/30..\n",
      "Training loss: 0.193\n",
      "Test loss: 0.425\n",
      "Test Accuracy: 0.883\n",
      "Epoch: 28/30..\n",
      "Training loss: 0.189\n",
      "Test loss: 0.422\n",
      "Test Accuracy: 0.882\n",
      "Epoch: 29/30..\n",
      "Training loss: 0.178\n",
      "Test loss: 0.440\n",
      "Test Accuracy: 0.877\n",
      "Epoch: 30/30..\n",
      "Training loss: 0.186\n",
      "Test loss: 0.400\n",
      "Test Accuracy: 0.891\n"
     ]
    }
   ],
   "source": [
    "epochs = 30\n",
    "steps = 0\n",
    "\n",
    "train_losses, test_losses = [], []\n",
    "\n",
    "for e in range(epochs):\n",
    "    running_loss = 0\n",
    "    for images, labels in trainloader:\n",
    "        optimizer.zero_grad()\n",
    "        \n",
    "        log_ps = model(images)\n",
    "        loss = criterion(log_ps, labels)\n",
    "        loss.backward()\n",
    "        optimizer.step()\n",
    "        \n",
    "        running_loss += loss.item()\n",
    "    else:\n",
    "        test_loss = 0\n",
    "        accuracy = 0\n",
    "        with torch.no_grad():\n",
    "            for images, labels in testloader:\n",
    "                log_ps = model(images)\n",
    "                test_loss += criterion(log_ps, labels)\n",
    "                \n",
    "                ps = torch.exp(log_ps)\n",
    "                top_p, top_class = ps.topk(1, dim=1)\n",
    "                equals = top_class == labels.view(*top_class.shape)\n",
    "                \n",
    "                accuracy += torch.mean(equals.type(torch.FloatTensor))\n",
    "                \n",
    "        train_losses.append(running_loss / len(trainloader))\n",
    "        test_losses.append(test_loss / len(testloader))\n",
    "        \n",
    "        print(\"Epoch: {}/{}..\".format(e + 1, epochs))\n",
    "        print(\"Training loss: {:.3f}\".format(running_loss/len(trainloader)))\n",
    "        print(\"Test loss: {:.3f}\".format(test_loss/len(testloader)))\n",
    "        print(\"Test Accuracy: {:.3f}\".format(accuracy/len(testloader)))"
   ]
  },
  {
   "cell_type": "code",
   "execution_count": 25,
   "metadata": {},
   "outputs": [],
   "source": [
    "%matplotlib inline\n",
    "%config InlineBackend.figure_format = 'retina'\n",
    "\n",
    "import matplotlib.pyplot as plt"
   ]
  },
  {
   "cell_type": "code",
   "execution_count": 26,
   "metadata": {},
   "outputs": [
    {
     "data": {
      "text/plain": [
       "<matplotlib.legend.Legend at 0x19c6daeb320>"
      ]
     },
     "execution_count": 26,
     "metadata": {},
     "output_type": "execute_result"
    },
    {
     "data": {
      "image/png": "[encoded data removed]",
      "text/plain": [
       "<Figure size 432x288 with 1 Axes>"
      ]
     },
     "metadata": {
      "image/png": {
       "height": 250,
       "width": 380
      }
     },
     "output_type": "display_data"
    }
   ],
   "source": [
    "plt.plot(train_losses, label='Training loss')\n",
    "plt.plot(test_losses, label='Validation loss')\n",
    "\n",
    "plt.legend(frameon=False)"
   ]
  },
  {
   "cell_type": "markdown",
   "metadata": {},
   "source": [
    "# Add DropOut"
   ]
  },
  {
   "cell_type": "code",
   "execution_count": 37,
   "metadata": {},
   "outputs": [],
   "source": [
    "class ClassifierWithDropout(nn.Module):\n",
    "    def __init__(self):\n",
    "        super().__init__()\n",
    "        self.fc1 = nn.Linear(784, 256)\n",
    "        self.fc2 = nn.Linear(256, 128)\n",
    "        self.fc3 = nn.Linear(128, 64)\n",
    "        self.fc4 = nn.Linear(64, 10)\n",
    "    \n",
    "        self.dropout = nn.Dropout(p=0.2)\n",
    "    \n",
    "    def forward(self, x):\n",
    "        # make sure input tensor is flattened\n",
    "        x = x.view(x.shape[0], -1)\n",
    "        \n",
    "        x = self.dropout(F.relu(self.fc1(x)))\n",
    "        x = self.dropout(F.relu(self.fc2(x)))\n",
    "        x = self.dropout(F.relu(self.fc3(x)))\n",
    "        \n",
    "        x = F.log_softmax(self.fc4(x), dim=1)\n",
    "        \n",
    "        return x"
   ]
  },
  {
   "cell_type": "code",
   "execution_count": 38,
   "metadata": {},
   "outputs": [],
   "source": [
    "model = ClassifierWithDropout()\n",
    "criterion = nn.NLLLoss()\n",
    "optimizer = optim.Adam(model.parameters(), lr=0.003)"
   ]
  },
  {
   "cell_type": "code",
   "execution_count": 39,
   "metadata": {},
   "outputs": [],
   "source": [
    "criterion = nn.NLLLoss()\n",
    "optimizer = optim.Adam(model.parameters(), lr=0.003)"
   ]
  },
  {
   "cell_type": "code",
   "execution_count": 40,
   "metadata": {},
   "outputs": [
    {
     "name": "stdout",
     "output_type": "stream",
     "text": [
      "Epoch: 1/10..\n",
      "Training loss: 0.605\n",
      "Test loss: 0.504\n",
      "Test Accuracy: 0.818\n",
      "Epoch: 2/10..\n",
      "Training loss: 0.486\n",
      "Test loss: 0.439\n",
      "Test Accuracy: 0.846\n",
      "Epoch: 3/10..\n",
      "Training loss: 0.452\n",
      "Test loss: 0.410\n",
      "Test Accuracy: 0.856\n",
      "Epoch: 4/10..\n",
      "Training loss: 0.434\n",
      "Test loss: 0.419\n",
      "Test Accuracy: 0.848\n",
      "Epoch: 5/10..\n",
      "Training loss: 0.422\n",
      "Test loss: 0.400\n",
      "Test Accuracy: 0.857\n",
      "Epoch: 6/10..\n",
      "Training loss: 0.411\n",
      "Test loss: 0.416\n",
      "Test Accuracy: 0.853\n",
      "Epoch: 7/10..\n",
      "Training loss: 0.402\n",
      "Test loss: 0.396\n",
      "Test Accuracy: 0.862\n",
      "Epoch: 8/10..\n",
      "Training loss: 0.397\n",
      "Test loss: 0.402\n",
      "Test Accuracy: 0.863\n",
      "Epoch: 9/10..\n",
      "Training loss: 0.394\n",
      "Test loss: 0.387\n",
      "Test Accuracy: 0.866\n",
      "Epoch: 10/10..\n",
      "Training loss: 0.394\n",
      "Test loss: 0.407\n",
      "Test Accuracy: 0.850\n"
     ]
    }
   ],
   "source": [
    "epochs = 10\n",
    "steps = 0\n",
    "\n",
    "train_losses, test_losses = [], []\n",
    "\n",
    "for e in range(epochs):\n",
    "    running_loss = 0\n",
    "    for images, labels in trainloader:\n",
    "        optimizer.zero_grad()\n",
    "        \n",
    "        log_ps = model(images)\n",
    "        loss = criterion(log_ps, labels)\n",
    "        loss.backward()\n",
    "        optimizer.step()\n",
    "        \n",
    "        running_loss += loss.item()\n",
    "    else:\n",
    "        test_loss = 0\n",
    "        accuracy = 0\n",
    "        \n",
    "        \n",
    "        with torch.no_grad():\n",
    "            #!Important: Change model to evaluation mode to deactivate dropout\n",
    "            model.eval()\n",
    "            \n",
    "            for images, labels in testloader:\n",
    "                \n",
    "                log_ps = model(images)\n",
    "                test_loss += criterion(log_ps, labels)\n",
    "                \n",
    "                ps = torch.exp(log_ps)\n",
    "                top_p, top_class = ps.topk(1, dim=1)\n",
    "                equals = top_class == labels.view(*top_class.shape)\n",
    "                \n",
    "                accuracy += torch.mean(equals.type(torch.FloatTensor))\n",
    "            \n",
    "            #!Important: Change model to training mode to activate dropout\n",
    "            model.train()\n",
    "            \n",
    "            \n",
    "        train_losses.append(running_loss / len(trainloader))\n",
    "        test_losses.append(test_loss / len(testloader))\n",
    "        \n",
    "        print(\"Epoch: {}/{}..\".format(e + 1, epochs))\n",
    "        print(\"Training loss: {:.3f}\".format(running_loss/len(trainloader)))\n",
    "        print(\"Test loss: {:.3f}\".format(test_loss/len(testloader)))\n",
    "        print(\"Test Accuracy: {:.3f}\".format(accuracy/len(testloader)))"
   ]
  },
  {
   "cell_type": "code",
   "execution_count": 42,
   "metadata": {},
   "outputs": [
    {
     "data": {
      "text/plain": [
       "<matplotlib.legend.Legend at 0x19c0952f710>"
      ]
     },
     "execution_count": 42,
     "metadata": {},
     "output_type": "execute_result"
    },
    {
     "data": {
      "image/png": "[encoded data removed]",
      "text/plain": [
       "<Figure size 432x288 with 1 Axes>"
      ]
     },
     "metadata": {
      "image/png": {
       "height": 250,
       "width": 380
      }
     },
     "output_type": "display_data"
    }
   ],
   "source": [
    "plt.plot(train_losses, label='Training loss')\n",
    "plt.plot(test_losses, label='Validation loss')\n",
    "\n",
    "plt.legend(frameon=False)"
   ]
  },
  {
   "cell_type": "markdown",
   "metadata": {},
   "source": [
    "# Save and load model"
   ]
  },
  {
   "cell_type": "code",
   "execution_count": 43,
   "metadata": {},
   "outputs": [
    {
     "name": "stdout",
     "output_type": "stream",
     "text": [
      "Our model \n",
      "\n",
      " ClassifierWithDropout(\n",
      "  (fc1): Linear(in_features=784, out_features=256, bias=True)\n",
      "  (fc2): Linear(in_features=256, out_features=128, bias=True)\n",
      "  (fc3): Linear(in_features=128, out_features=64, bias=True)\n",
      "  (fc4): Linear(in_features=64, out_features=10, bias=True)\n",
      "  (dropout): Dropout(p=0.2)\n",
      ") \n",
      "\n",
      "The state dict keys: \n",
      "\n",
      " odict_keys(['fc1.weight', 'fc1.bias', 'fc2.weight', 'fc2.bias', 'fc3.weight', 'fc3.bias', 'fc4.weight', 'fc4.bias'])\n"
     ]
    }
   ],
   "source": [
    "print(\"Our model \\n\\n\", model, \"\\n\")\n",
    "\n",
    "print(\"The state dict keys: \\n\\n\", model.state_dict().keys())"
   ]
  },
  {
   "cell_type": "code",
   "execution_count": 44,
   "metadata": {},
   "outputs": [],
   "source": [
    "torch.save(model.state_dict(), \"checkpoint.pth\")"
   ]
  },
  {
   "cell_type": "code",
   "execution_count": 45,
   "metadata": {},
   "outputs": [],
   "source": [
    "state_dict = torch.load(\"checkpoint.pth\")"
   ]
  },
  {
   "cell_type": "code",
   "execution_count": 47,
   "metadata": {},
   "outputs": [
    {
     "name": "stdout",
     "output_type": "stream",
     "text": [
      "state_dict \n",
      " odict_keys(['fc1.weight', 'fc1.bias', 'fc2.weight', 'fc2.bias', 'fc3.weight', 'fc3.bias', 'fc4.weight', 'fc4.bias'])\n"
     ]
    }
   ],
   "source": [
    "print(\"state_dict \\n\", state_dict.keys())"
   ]
  },
  {
   "cell_type": "code",
   "execution_count": 48,
   "metadata": {},
   "outputs": [],
   "source": [
    "model.load_state_dict(state_dict)"
   ]
  },
  {
   "cell_type": "markdown",
   "metadata": {},
   "source": [
    "## Add information about the model so we can create the same architecture when using the checkpoint"
   ]
  },
  {
   "cell_type": "code",
   "execution_count": 52,
   "metadata": {},
   "outputs": [],
   "source": [
    "checkpoint = {\n",
    "    \"input_size\": 784,\n",
    "    \"output_size\": 10,\n",
    "    \"state_dict\": model.state_dict()\n",
    "}\n",
    "\n",
    "torch.save(checkpoint, \"checkpoint.pth\")"
   ]
  },
  {
   "cell_type": "code",
   "execution_count": 53,
   "metadata": {},
   "outputs": [],
   "source": [
    "ck_data = torch.load(\"checkpoint.pth\")"
   ]
  },
  {
   "cell_type": "code",
   "execution_count": 54,
   "metadata": {},
   "outputs": [
    {
     "data": {
      "text/plain": [
       "dict_keys(['input_size', 'output_size', 'state_dict'])"
      ]
     },
     "execution_count": 54,
     "metadata": {},
     "output_type": "execute_result"
    }
   ],
   "source": [
    "ck_data.keys()"
   ]
  },
  {
   "cell_type": "code",
   "execution_count": null,
   "metadata": {},
   "outputs": [],
   "source": []
  }
 ],
 "metadata": {
  "kernelspec": {
   "display_name": "Python 3",
   "language": "python",
   "name": "python3"
  },
  "language_info": {
   "codemirror_mode": {
    "name": "ipython",
    "version": 3
   },
   "file_extension": ".py",
   "mimetype": "text/x-python",
   "name": "python",
   "nbconvert_exporter": "python",
   "pygments_lexer": "ipython3",
   "version": "3.6.5"
  }
 },
 "nbformat": 4,
 "nbformat_minor": 2
}
