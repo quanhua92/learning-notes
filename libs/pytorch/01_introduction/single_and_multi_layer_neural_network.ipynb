{
 "cells": [
  {
   "cell_type": "code",
   "execution_count": 2,
   "metadata": {},
   "outputs": [],
   "source": [
    "import torch"
   ]
  },
  {
   "cell_type": "markdown",
   "metadata": {},
   "source": [
    "# Single layer network"
   ]
  },
  {
   "cell_type": "code",
   "execution_count": 9,
   "metadata": {},
   "outputs": [],
   "source": [
    "def activation(x):\n",
    "    \"\"\" sigmoid activation function\n",
    "        \n",
    "        Arguments\n",
    "        ---------\n",
    "        x: torch.Tensor\n",
    "    \n",
    "    \"\"\"\n",
    "    return 1 / (1 + torch.exp(-x))"
   ]
  },
  {
   "cell_type": "code",
   "execution_count": 32,
   "metadata": {},
   "outputs": [],
   "source": [
    "torch.manual_seed(7)\n",
    "\n",
    "features = torch.randn((1, 5))\n",
    "\n",
    "weights = torch.rand_like(features)\n",
    "\n",
    "bias = torch.randn((1, 1))"
   ]
  },
  {
   "cell_type": "code",
   "execution_count": 41,
   "metadata": {},
   "outputs": [
    {
     "data": {
      "text/plain": [
       "tensor([[0.6140]])"
      ]
     },
     "execution_count": 41,
     "metadata": {},
     "output_type": "execute_result"
    }
   ],
   "source": [
    "activation(torch.sum(features * weights) + bias)"
   ]
  },
  {
   "cell_type": "code",
   "execution_count": 58,
   "metadata": {},
   "outputs": [
    {
     "data": {
      "text/plain": [
       "tensor([[0.6140]])"
      ]
     },
     "execution_count": 58,
     "metadata": {},
     "output_type": "execute_result"
    }
   ],
   "source": [
    "# more efficient than use * and sum\n",
    "activation(torch.mm(features, weights.view((5, 1))) + bias)"
   ]
  },
  {
   "cell_type": "code",
   "execution_count": 59,
   "metadata": {},
   "outputs": [
    {
     "name": "stdout",
     "output_type": "stream",
     "text": [
      "tensor([[0.2868],\n",
      "        [0.2063],\n",
      "        [0.4451],\n",
      "        [0.3593],\n",
      "        [0.7204]])\n",
      "tensor([[0.2868, 0.2063, 0.4451, 0.3593, 0.7204]])\n",
      "tensor([[0.2868],\n",
      "        [0.2063],\n",
      "        [0.4451],\n",
      "        [0.3593],\n",
      "        [0.7204]])\n",
      "tensor([[0.2868],\n",
      "        [0.2063],\n",
      "        [0.4451],\n",
      "        [0.3593],\n",
      "        [0.7204]])\n",
      "tensor([[0.2868],\n",
      "        [0.2063],\n",
      "        [0.4451],\n",
      "        [0.3593],\n",
      "        [0.7204]])\n"
     ]
    }
   ],
   "source": [
    "print(weights)\n",
    "\n",
    "print(weights.t())\n",
    "\n",
    "# return a new tensor with same data in memory, sometimes a clone, as it copies data to another part of memory\n",
    "print(weights.reshape((5, 1)))\n",
    "\n",
    "# return the same tensor with different shape. sometimes, return less or more value if the shape is not matched\n",
    "print(weights.resize_((5, 1)))\n",
    "\n",
    "# 100% return a new tensor with the same data without messing with the memory. will return error if shape is not matched\n",
    "print(weights.view((5, 1)))"
   ]
  },
  {
   "cell_type": "markdown",
   "metadata": {},
   "source": [
    "# Multilayer networks"
   ]
  },
  {
   "cell_type": "code",
   "execution_count": 76,
   "metadata": {},
   "outputs": [],
   "source": [
    "torch.manual_seed(7)\n",
    "\n",
    "features = torch.randn((1, 3))\n",
    "\n",
    "n_input = features.shape[1]\n",
    "n_hidden = 2\n",
    "n_output = 1\n",
    "\n",
    "W1 = torch.randn(n_input, n_hidden)\n",
    "W2 = torch.randn(n_hidden, n_output)\n",
    "\n",
    "B1 = torch.randn((1, n_hidden))\n",
    "B2 = torch.randn((1, n_output))"
   ]
  },
  {
   "cell_type": "code",
   "execution_count": 79,
   "metadata": {},
   "outputs": [],
   "source": [
    "H1 = activation(torch.mm(features, W1) + B1)\n",
    "H2 = activation(torch.mm(H1, W2) + B2)"
   ]
  },
  {
   "cell_type": "code",
   "execution_count": 80,
   "metadata": {},
   "outputs": [
    {
     "data": {
      "text/plain": [
       "tensor([[0.3171]])"
      ]
     },
     "execution_count": 80,
     "metadata": {},
     "output_type": "execute_result"
    }
   ],
   "source": [
    "H2"
   ]
  },
  {
   "cell_type": "markdown",
   "metadata": {},
   "source": [
    "# Numpy to Torch and back"
   ]
  },
  {
   "cell_type": "code",
   "execution_count": 82,
   "metadata": {},
   "outputs": [],
   "source": [
    "import numpy as np"
   ]
  },
  {
   "cell_type": "code",
   "execution_count": 92,
   "metadata": {},
   "outputs": [
    {
     "name": "stdout",
     "output_type": "stream",
     "text": [
      "[[0.71828501 0.64917534 0.46701439]\n",
      " [0.78901262 0.46355998 0.74960835]\n",
      " [0.2584754  0.12586124 0.68107892]\n",
      " [0.55671805 0.97806068 0.70196968]]\n"
     ]
    }
   ],
   "source": [
    "a = np.random.rand(4, 3)\n",
    "print(a)"
   ]
  },
  {
   "cell_type": "code",
   "execution_count": 93,
   "metadata": {},
   "outputs": [
    {
     "name": "stdout",
     "output_type": "stream",
     "text": [
      "tensor([[0.7183, 0.6492, 0.4670],\n",
      "        [0.7890, 0.4636, 0.7496],\n",
      "        [0.2585, 0.1259, 0.6811],\n",
      "        [0.5567, 0.9781, 0.7020]], dtype=torch.float64)\n"
     ]
    }
   ],
   "source": [
    "b = torch.from_numpy(a)\n",
    "print(b)"
   ]
  },
  {
   "cell_type": "code",
   "execution_count": 94,
   "metadata": {},
   "outputs": [
    {
     "data": {
      "text/plain": [
       "array([[0.71828501, 0.64917534, 0.46701439],\n",
       "       [0.78901262, 0.46355998, 0.74960835],\n",
       "       [0.2584754 , 0.12586124, 0.68107892],\n",
       "       [0.55671805, 0.97806068, 0.70196968]])"
      ]
     },
     "execution_count": 94,
     "metadata": {},
     "output_type": "execute_result"
    }
   ],
   "source": [
    "b.numpy()"
   ]
  },
  {
   "cell_type": "markdown",
   "metadata": {},
   "source": [
    "memory is shared so data will change if you change the values in the other"
   ]
  },
  {
   "cell_type": "code",
   "execution_count": 95,
   "metadata": {},
   "outputs": [
    {
     "data": {
      "text/plain": [
       "tensor([[1.4366, 1.2984, 0.9340],\n",
       "        [1.5780, 0.9271, 1.4992],\n",
       "        [0.5170, 0.2517, 1.3622],\n",
       "        [1.1134, 1.9561, 1.4039]], dtype=torch.float64)"
      ]
     },
     "execution_count": 95,
     "metadata": {},
     "output_type": "execute_result"
    }
   ],
   "source": [
    "b.mul_(2)"
   ]
  },
  {
   "cell_type": "code",
   "execution_count": 96,
   "metadata": {},
   "outputs": [
    {
     "data": {
      "text/plain": [
       "array([[1.43657002, 1.29835067, 0.93402878],\n",
       "       [1.57802523, 0.92711996, 1.4992167 ],\n",
       "       [0.51695079, 0.25172249, 1.36215783],\n",
       "       [1.11343611, 1.95612135, 1.40393935]])"
      ]
     },
     "execution_count": 96,
     "metadata": {},
     "output_type": "execute_result"
    }
   ],
   "source": [
    "a"
   ]
  },
  {
   "cell_type": "code",
   "execution_count": null,
   "metadata": {},
   "outputs": [],
   "source": []
  }
 ],
 "metadata": {
  "kernelspec": {
   "display_name": "Python 3",
   "language": "python",
   "name": "python3"
  },
  "language_info": {
   "codemirror_mode": {
    "name": "ipython",
    "version": 3
   },
   "file_extension": ".py",
   "mimetype": "text/x-python",
   "name": "python",
   "nbconvert_exporter": "python",
   "pygments_lexer": "ipython3",
   "version": "3.6.5"
  }
 },
 "nbformat": 4,
 "nbformat_minor": 2
}
