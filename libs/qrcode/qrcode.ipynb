{
 "cells": [
  {
   "cell_type": "code",
   "execution_count": 1,
   "metadata": {},
   "outputs": [],
   "source": [
    "import qrcode\n",
    "import sys"
   ]
  },
  {
   "cell_type": "code",
   "execution_count": 2,
   "metadata": {},
   "outputs": [],
   "source": [
    "img = qrcode.make(\"deeplearning.vn\")"
   ]
  },
  {
   "cell_type": "code",
   "execution_count": 3,
   "metadata": {},
   "outputs": [
    {
     "data": {
      "image/png": "[encoded data removed]",
      "text/plain": [
       "<qrcode.image.pil.PilImage at 0x50898d0>"
      ]
     },
     "execution_count": 3,
     "metadata": {},
     "output_type": "execute_result"
    }
   ],
   "source": [
    "img"
   ]
  },
  {
   "cell_type": "code",
   "execution_count": 4,
   "metadata": {},
   "outputs": [
    {
     "data": {
      "text/plain": [
       "qrcode.image.pil.PilImage"
      ]
     },
     "execution_count": 4,
     "metadata": {},
     "output_type": "execute_result"
    }
   ],
   "source": [
    "type(img)"
   ]
  },
  {
   "cell_type": "code",
   "execution_count": 8,
   "metadata": {},
   "outputs": [],
   "source": [
    "def pil_to_jpeg_python3(image):\n",
    "    import base64\n",
    "    from io import BytesIO\n",
    "\n",
    "    buffered = BytesIO()\n",
    "    image.save(buffered, format=\"JPEG\")\n",
    "    img_str = base64.b64encode(buffered.getvalue())    \n",
    "    return img_str"
   ]
  },
  {
   "cell_type": "code",
   "execution_count": 9,
   "metadata": {},
   "outputs": [],
   "source": [
    "def pil_to_jpeg_python2(image):\n",
    "    import base64\n",
    "    import cStringIO\n",
    "\n",
    "    buffer = cStringIO.StringIO()\n",
    "    image.save(buffer, format=\"JPEG\")\n",
    "    img_str = base64.b64encode(buffer.getvalue())\n",
    "    return img_str"
   ]
  },
  {
   "cell_type": "code",
   "execution_count": 10,
   "metadata": {},
   "outputs": [
    {
     "name": "stdout",
     "output_type": "stream",
     "text": [
      "pil_to_jpeg_python2\n"
     ]
    }
   ],
   "source": [
    "if sys.version_info.major == 2:\n",
    "    print(\"pil_to_jpeg_python2\")\n",
    "    img_str = pil_to_jpeg_python2(img)\n",
    "else:\n",
    "    print(\"pil_to_jpeg_python3\")    \n",
    "    img_str = pil_to_jpeg_python3(img)"
   ]
  },
  {
   "cell_type": "code",
   "execution_count": 11,
   "metadata": {},
   "outputs": [
    {
     "data": {
      "text/plain": [
       "'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'"
      ]
     },
     "execution_count": 11,
     "metadata": {},
     "output_type": "execute_result"
    }
   ],
   "source": [
    "img_str"
   ]
  },
  {
   "cell_type": "code",
   "execution_count": null,
   "metadata": {},
   "outputs": [],
   "source": []
  }
 ],
 "metadata": {
  "kernelspec": {
   "display_name": "Python 2",
   "language": "python",
   "name": "python2"
  },
  "language_info": {
   "codemirror_mode": {
    "name": "ipython",
    "version": 2
   },
   "file_extension": ".py",
   "mimetype": "text/x-python",
   "name": "python",
   "nbconvert_exporter": "python",
   "pygments_lexer": "ipython2",
   "version": "2.7.15"
  }
 },
 "nbformat": 4,
 "nbformat_minor": 2
}
