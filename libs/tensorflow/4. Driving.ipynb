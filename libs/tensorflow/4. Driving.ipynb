{
 "cells": [
  {
   "cell_type": "code",
   "execution_count": 1,
   "metadata": {},
   "outputs": [],
   "source": [
    "import pandas as pd\n",
    "import numpy\n",
    "import tensorflow as tf\n",
    "import matplotlib.pyplot as plt"
   ]
  },
  {
   "cell_type": "code",
   "execution_count": 2,
   "metadata": {},
   "outputs": [],
   "source": [
    "FILE_PATH = \"C:\\\\Users\\\\quanh\\\\Desktop\\\\datasets\\\\06\\\\driving_log.csv\""
   ]
  },
  {
   "cell_type": "code",
   "execution_count": 3,
   "metadata": {},
   "outputs": [],
   "source": [
    "df = pd.read_csv(FILE_PATH,\n",
    "                names=['center','left','right','steering','throttle','break','speed'], header=None)"
   ]
  },
  {
   "cell_type": "code",
   "execution_count": 4,
   "metadata": {},
   "outputs": [
    {
     "data": {
      "text/plain": [
       "Index(['center', 'left', 'right', 'steering', 'throttle', 'break', 'speed'], dtype='object')"
      ]
     },
     "execution_count": 4,
     "metadata": {},
     "output_type": "execute_result"
    }
   ],
   "source": [
    "df.columns"
   ]
  },
  {
   "cell_type": "code",
   "execution_count": 5,
   "metadata": {},
   "outputs": [
    {
     "data": {
      "text/plain": [
       "center      8012\n",
       "left        8012\n",
       "right       8012\n",
       "steering    8012\n",
       "throttle    8012\n",
       "break       8012\n",
       "speed       8012\n",
       "dtype: int64"
      ]
     },
     "execution_count": 5,
     "metadata": {},
     "output_type": "execute_result"
    }
   ],
   "source": [
    "df.count()"
   ]
  },
  {
   "cell_type": "code",
   "execution_count": 6,
   "metadata": {},
   "outputs": [
    {
     "data": {
      "text/html": [
       "<div>\n",
       "<style scoped>\n",
       "    .dataframe tbody tr th:only-of-type {\n",
       "        vertical-align: middle;\n",
       "    }\n",
       "\n",
       "    .dataframe tbody tr th {\n",
       "        vertical-align: top;\n",
       "    }\n",
       "\n",
       "    .dataframe thead th {\n",
       "        text-align: right;\n",
       "    }\n",
       "</style>\n",
       "<table border=\"1\" class=\"dataframe\">\n",
       "  <thead>\n",
       "    <tr style=\"text-align: right;\">\n",
       "      <th></th>\n",
       "      <th>center</th>\n",
       "      <th>left</th>\n",
       "      <th>right</th>\n",
       "      <th>steering</th>\n",
       "      <th>throttle</th>\n",
       "      <th>break</th>\n",
       "      <th>speed</th>\n",
       "    </tr>\n",
       "  </thead>\n",
       "  <tbody>\n",
       "    <tr>\n",
       "      <th>0</th>\n",
       "      <td>C:\\Users\\quanh\\Desktop\\datasets\\06\\IMG\\center_...</td>\n",
       "      <td>C:\\Users\\quanh\\Desktop\\datasets\\06\\IMG\\left_20...</td>\n",
       "      <td>C:\\Users\\quanh\\Desktop\\datasets\\06\\IMG\\right_2...</td>\n",
       "      <td>0.0</td>\n",
       "      <td>0.0</td>\n",
       "      <td>0</td>\n",
       "      <td>0.000008</td>\n",
       "    </tr>\n",
       "    <tr>\n",
       "      <th>1</th>\n",
       "      <td>C:\\Users\\quanh\\Desktop\\datasets\\06\\IMG\\center_...</td>\n",
       "      <td>C:\\Users\\quanh\\Desktop\\datasets\\06\\IMG\\left_20...</td>\n",
       "      <td>C:\\Users\\quanh\\Desktop\\datasets\\06\\IMG\\right_2...</td>\n",
       "      <td>0.0</td>\n",
       "      <td>0.0</td>\n",
       "      <td>0</td>\n",
       "      <td>0.000009</td>\n",
       "    </tr>\n",
       "    <tr>\n",
       "      <th>2</th>\n",
       "      <td>C:\\Users\\quanh\\Desktop\\datasets\\06\\IMG\\center_...</td>\n",
       "      <td>C:\\Users\\quanh\\Desktop\\datasets\\06\\IMG\\left_20...</td>\n",
       "      <td>C:\\Users\\quanh\\Desktop\\datasets\\06\\IMG\\right_2...</td>\n",
       "      <td>0.0</td>\n",
       "      <td>0.0</td>\n",
       "      <td>0</td>\n",
       "      <td>0.000010</td>\n",
       "    </tr>\n",
       "    <tr>\n",
       "      <th>3</th>\n",
       "      <td>C:\\Users\\quanh\\Desktop\\datasets\\06\\IMG\\center_...</td>\n",
       "      <td>C:\\Users\\quanh\\Desktop\\datasets\\06\\IMG\\left_20...</td>\n",
       "      <td>C:\\Users\\quanh\\Desktop\\datasets\\06\\IMG\\right_2...</td>\n",
       "      <td>0.0</td>\n",
       "      <td>0.0</td>\n",
       "      <td>0</td>\n",
       "      <td>0.000008</td>\n",
       "    </tr>\n",
       "    <tr>\n",
       "      <th>4</th>\n",
       "      <td>C:\\Users\\quanh\\Desktop\\datasets\\06\\IMG\\center_...</td>\n",
       "      <td>C:\\Users\\quanh\\Desktop\\datasets\\06\\IMG\\left_20...</td>\n",
       "      <td>C:\\Users\\quanh\\Desktop\\datasets\\06\\IMG\\right_2...</td>\n",
       "      <td>0.0</td>\n",
       "      <td>0.0</td>\n",
       "      <td>0</td>\n",
       "      <td>0.000008</td>\n",
       "    </tr>\n",
       "    <tr>\n",
       "      <th>5</th>\n",
       "      <td>C:\\Users\\quanh\\Desktop\\datasets\\06\\IMG\\center_...</td>\n",
       "      <td>C:\\Users\\quanh\\Desktop\\datasets\\06\\IMG\\left_20...</td>\n",
       "      <td>C:\\Users\\quanh\\Desktop\\datasets\\06\\IMG\\right_2...</td>\n",
       "      <td>0.0</td>\n",
       "      <td>0.0</td>\n",
       "      <td>0</td>\n",
       "      <td>0.000009</td>\n",
       "    </tr>\n",
       "    <tr>\n",
       "      <th>6</th>\n",
       "      <td>C:\\Users\\quanh\\Desktop\\datasets\\06\\IMG\\center_...</td>\n",
       "      <td>C:\\Users\\quanh\\Desktop\\datasets\\06\\IMG\\left_20...</td>\n",
       "      <td>C:\\Users\\quanh\\Desktop\\datasets\\06\\IMG\\right_2...</td>\n",
       "      <td>0.0</td>\n",
       "      <td>0.0</td>\n",
       "      <td>0</td>\n",
       "      <td>0.000009</td>\n",
       "    </tr>\n",
       "    <tr>\n",
       "      <th>7</th>\n",
       "      <td>C:\\Users\\quanh\\Desktop\\datasets\\06\\IMG\\center_...</td>\n",
       "      <td>C:\\Users\\quanh\\Desktop\\datasets\\06\\IMG\\left_20...</td>\n",
       "      <td>C:\\Users\\quanh\\Desktop\\datasets\\06\\IMG\\right_2...</td>\n",
       "      <td>0.0</td>\n",
       "      <td>0.0</td>\n",
       "      <td>0</td>\n",
       "      <td>0.000013</td>\n",
       "    </tr>\n",
       "    <tr>\n",
       "      <th>8</th>\n",
       "      <td>C:\\Users\\quanh\\Desktop\\datasets\\06\\IMG\\center_...</td>\n",
       "      <td>C:\\Users\\quanh\\Desktop\\datasets\\06\\IMG\\left_20...</td>\n",
       "      <td>C:\\Users\\quanh\\Desktop\\datasets\\06\\IMG\\right_2...</td>\n",
       "      <td>0.0</td>\n",
       "      <td>0.0</td>\n",
       "      <td>0</td>\n",
       "      <td>0.000002</td>\n",
       "    </tr>\n",
       "    <tr>\n",
       "      <th>9</th>\n",
       "      <td>C:\\Users\\quanh\\Desktop\\datasets\\06\\IMG\\center_...</td>\n",
       "      <td>C:\\Users\\quanh\\Desktop\\datasets\\06\\IMG\\left_20...</td>\n",
       "      <td>C:\\Users\\quanh\\Desktop\\datasets\\06\\IMG\\right_2...</td>\n",
       "      <td>0.0</td>\n",
       "      <td>0.0</td>\n",
       "      <td>0</td>\n",
       "      <td>0.000006</td>\n",
       "    </tr>\n",
       "  </tbody>\n",
       "</table>\n",
       "</div>"
      ],
      "text/plain": [
       "                                              center  \\\n",
       "0  C:\\Users\\quanh\\Desktop\\datasets\\06\\IMG\\center_...   \n",
       "1  C:\\Users\\quanh\\Desktop\\datasets\\06\\IMG\\center_...   \n",
       "2  C:\\Users\\quanh\\Desktop\\datasets\\06\\IMG\\center_...   \n",
       "3  C:\\Users\\quanh\\Desktop\\datasets\\06\\IMG\\center_...   \n",
       "4  C:\\Users\\quanh\\Desktop\\datasets\\06\\IMG\\center_...   \n",
       "5  C:\\Users\\quanh\\Desktop\\datasets\\06\\IMG\\center_...   \n",
       "6  C:\\Users\\quanh\\Desktop\\datasets\\06\\IMG\\center_...   \n",
       "7  C:\\Users\\quanh\\Desktop\\datasets\\06\\IMG\\center_...   \n",
       "8  C:\\Users\\quanh\\Desktop\\datasets\\06\\IMG\\center_...   \n",
       "9  C:\\Users\\quanh\\Desktop\\datasets\\06\\IMG\\center_...   \n",
       "\n",
       "                                                left  \\\n",
       "0  C:\\Users\\quanh\\Desktop\\datasets\\06\\IMG\\left_20...   \n",
       "1  C:\\Users\\quanh\\Desktop\\datasets\\06\\IMG\\left_20...   \n",
       "2  C:\\Users\\quanh\\Desktop\\datasets\\06\\IMG\\left_20...   \n",
       "3  C:\\Users\\quanh\\Desktop\\datasets\\06\\IMG\\left_20...   \n",
       "4  C:\\Users\\quanh\\Desktop\\datasets\\06\\IMG\\left_20...   \n",
       "5  C:\\Users\\quanh\\Desktop\\datasets\\06\\IMG\\left_20...   \n",
       "6  C:\\Users\\quanh\\Desktop\\datasets\\06\\IMG\\left_20...   \n",
       "7  C:\\Users\\quanh\\Desktop\\datasets\\06\\IMG\\left_20...   \n",
       "8  C:\\Users\\quanh\\Desktop\\datasets\\06\\IMG\\left_20...   \n",
       "9  C:\\Users\\quanh\\Desktop\\datasets\\06\\IMG\\left_20...   \n",
       "\n",
       "                                               right  steering  throttle  \\\n",
       "0  C:\\Users\\quanh\\Desktop\\datasets\\06\\IMG\\right_2...       0.0       0.0   \n",
       "1  C:\\Users\\quanh\\Desktop\\datasets\\06\\IMG\\right_2...       0.0       0.0   \n",
       "2  C:\\Users\\quanh\\Desktop\\datasets\\06\\IMG\\right_2...       0.0       0.0   \n",
       "3  C:\\Users\\quanh\\Desktop\\datasets\\06\\IMG\\right_2...       0.0       0.0   \n",
       "4  C:\\Users\\quanh\\Desktop\\datasets\\06\\IMG\\right_2...       0.0       0.0   \n",
       "5  C:\\Users\\quanh\\Desktop\\datasets\\06\\IMG\\right_2...       0.0       0.0   \n",
       "6  C:\\Users\\quanh\\Desktop\\datasets\\06\\IMG\\right_2...       0.0       0.0   \n",
       "7  C:\\Users\\quanh\\Desktop\\datasets\\06\\IMG\\right_2...       0.0       0.0   \n",
       "8  C:\\Users\\quanh\\Desktop\\datasets\\06\\IMG\\right_2...       0.0       0.0   \n",
       "9  C:\\Users\\quanh\\Desktop\\datasets\\06\\IMG\\right_2...       0.0       0.0   \n",
       "\n",
       "   break     speed  \n",
       "0      0  0.000008  \n",
       "1      0  0.000009  \n",
       "2      0  0.000010  \n",
       "3      0  0.000008  \n",
       "4      0  0.000008  \n",
       "5      0  0.000009  \n",
       "6      0  0.000009  \n",
       "7      0  0.000013  \n",
       "8      0  0.000002  \n",
       "9      0  0.000006  "
      ]
     },
     "execution_count": 6,
     "metadata": {},
     "output_type": "execute_result"
    }
   ],
   "source": [
    "df.head(10)"
   ]
  },
  {
   "cell_type": "code",
   "execution_count": 7,
   "metadata": {},
   "outputs": [
    {
     "data": {
      "text/plain": [
       "array([[<matplotlib.axes._subplots.AxesSubplot object at 0x00000228046F6160>]], dtype=object)"
      ]
     },
     "execution_count": 7,
     "metadata": {},
     "output_type": "execute_result"
    },
    {
     "data": {
      "image/png": "[encoded data removed]",
      "text/plain": [
       "<matplotlib.figure.Figure at 0x22804434940>"
      ]
     },
     "metadata": {},
     "output_type": "display_data"
    }
   ],
   "source": [
    "df.hist(column='steering', bins=20)"
   ]
  },
  {
   "cell_type": "code",
   "execution_count": 8,
   "metadata": {},
   "outputs": [],
   "source": [
    "df = df.drop(df.query('steering == 0').sample(frac=.95).index) # Drop 95% of 0 steering"
   ]
  },
  {
   "cell_type": "code",
   "execution_count": 9,
   "metadata": {},
   "outputs": [
    {
     "data": {
      "text/plain": [
       "array([[<matplotlib.axes._subplots.AxesSubplot object at 0x0000022804A0B208>]], dtype=object)"
      ]
     },
     "execution_count": 9,
     "metadata": {},
     "output_type": "execute_result"
    },
    {
     "data": {
      "image/png": "[encoded data removed]",
      "text/plain": [
       "<matplotlib.figure.Figure at 0x22804a72518>"
      ]
     },
     "metadata": {},
     "output_type": "display_data"
    }
   ],
   "source": [
    "df.hist(column='steering', bins=20)"
   ]
  },
  {
   "cell_type": "code",
   "execution_count": 10,
   "metadata": {},
   "outputs": [
    {
     "data": {
      "text/plain": [
       "center      1916\n",
       "left        1916\n",
       "right       1916\n",
       "steering    1916\n",
       "throttle    1916\n",
       "break       1916\n",
       "speed       1916\n",
       "dtype: int64"
      ]
     },
     "execution_count": 10,
     "metadata": {},
     "output_type": "execute_result"
    }
   ],
   "source": [
    "df.count()"
   ]
  },
  {
   "cell_type": "code",
   "execution_count": 11,
   "metadata": {},
   "outputs": [
    {
     "name": "stdout",
     "output_type": "stream",
     "text": [
      "1916\n",
      "1916\n",
      "C:\\Users\\quanh\\Desktop\\datasets\\06\\IMG\\center_2018_01_15_03_03_04_339.jpg\n",
      "0.009389671\n"
     ]
    }
   ],
   "source": [
    "train_data = df['center'].tolist()\n",
    "train_labels = df['steering'].tolist()\n",
    "print(len(train_data))\n",
    "print(len(train_labels))\n",
    "print(train_data[10])\n",
    "print(train_labels[10])"
   ]
  },
  {
   "cell_type": "code",
   "execution_count": 12,
   "metadata": {},
   "outputs": [],
   "source": [
    "IMAGE_SIZE=64"
   ]
  },
  {
   "cell_type": "code",
   "execution_count": 13,
   "metadata": {},
   "outputs": [],
   "source": [
    "def _parse_function(filename, label):\n",
    "    with tf.device('/cpu:0'):\n",
    "        image_string = tf.read_file(filename)\n",
    "        image_decoded = tf.image.decode_jpeg(image_string)\n",
    "    return image_decoded, label"
   ]
  },
  {
   "cell_type": "code",
   "execution_count": 14,
   "metadata": {},
   "outputs": [],
   "source": [
    "def _preprocessing(image,label, is_training):\n",
    "    with tf.device('/cpu:0'):\n",
    "        flip = tf.random_uniform([1], -1, 1)[0] > 0\n",
    "        image = tf.image.crop_to_bounding_box(image, 60, 0, 100, 320)\n",
    "        image = tf.cond(flip, lambda: tf.image.flip_left_right(image), lambda: image)\n",
    "        label = tf.cond(flip, lambda: -label, lambda: label)\n",
    "        image = tf.image.per_image_standardization(image)\n",
    "    return image, label"
   ]
  },
  {
   "cell_type": "code",
   "execution_count": 15,
   "metadata": {},
   "outputs": [],
   "source": [
    "def get_input_fn(list_data, list_labels, mode=tf.estimator.ModeKeys.TRAIN, batch_size=64):\n",
    "    def _input_fn():\n",
    "        \n",
    "        is_training = (mode == tf.estimator.ModeKeys.TRAIN)\n",
    "        dataset = tf.data.Dataset.from_tensor_slices((list_data, list_labels)) \n",
    "\n",
    "        dataset = dataset.shuffle(buffer_size= 2 * batch_size + 1)\n",
    "        \n",
    "        dataset = dataset.map(_parse_function, num_parallel_calls=4)\n",
    "        \n",
    "        dataset = dataset.map(lambda image, label: (_preprocessing(image, label, is_training)), num_parallel_calls=8)\n",
    "        \n",
    "        dataset = dataset.prefetch(batch_size * 4 + 1)\n",
    "        \n",
    "        dataset = dataset.repeat()\n",
    "        \n",
    "        dataset = dataset.batch(batch_size)\n",
    "        \n",
    "        iterator = dataset.make_one_shot_iterator()\n",
    "        \n",
    "        images, labels = iterator.get_next()\n",
    "        images = tf.image.resize_images(images, [IMAGE_SIZE, IMAGE_SIZE])\n",
    "        return images, labels\n",
    "        \n",
    "    return _input_fn"
   ]
  },
  {
   "cell_type": "code",
   "execution_count": 16,
   "metadata": {},
   "outputs": [],
   "source": [
    "train_input_fn = get_input_fn(train_data, train_labels)\n",
    "test_input_fn = get_input_fn(train_data, train_labels, tf.estimator.ModeKeys.EVAL)"
   ]
  },
  {
   "cell_type": "code",
   "execution_count": 17,
   "metadata": {},
   "outputs": [
    {
     "name": "stdout",
     "output_type": "stream",
     "text": [
      "images_batch size (64, 64, 64, 3)\n",
      "labels_batch size (64,)\n",
      "labels_batch[0] -0.028169\n"
     ]
    },
    {
     "data": {
      "image/png": "[encoded data removed]",
      "text/plain": [
       "<matplotlib.figure.Figure at 0x22804dc1f60>"
      ]
     },
     "metadata": {},
     "output_type": "display_data"
    }
   ],
   "source": [
    "images, labels = train_input_fn()\n",
    "with tf.Session() as sess:\n",
    "    for i in range(1):\n",
    "        images_batch, labels_batch = sess.run([images, labels])\n",
    "        print(\"images_batch size\", images_batch.shape)\n",
    "        print(\"labels_batch size\", labels_batch.shape)\n",
    "        print(\"labels_batch[0]\", labels_batch[0])\n",
    "        plt.imshow(images_batch[0])\n",
    "        plt.show()"
   ]
  },
  {
   "cell_type": "code",
   "execution_count": 18,
   "metadata": {},
   "outputs": [],
   "source": [
    "def my_model_fn(features, labels, mode):\n",
    "    \"\"\"Model function for our CNN\"\"\"\n",
    "    \n",
    "    net = tf.reshape(features, [-1, IMAGE_SIZE, IMAGE_SIZE, 3])\n",
    "    \n",
    "    for _ in range(3):\n",
    "        net = tf.layers.conv2d(\n",
    "            inputs=net,\n",
    "            filters=32,\n",
    "            kernel_size=[5, 5],\n",
    "            padding=\"same\",\n",
    "            activation=tf.nn.relu\n",
    "        )\n",
    "        net = tf.layers.max_pooling2d(\n",
    "            inputs=net,\n",
    "            pool_size=[2, 2],\n",
    "            strides=[2,2]\n",
    "        )\n",
    "    for _ in range(2):\n",
    "        net = tf.layers.conv2d(\n",
    "            inputs=net,\n",
    "            filters=64,\n",
    "            kernel_size=[3, 3],\n",
    "            padding=\"same\",\n",
    "            activation=tf.nn.relu\n",
    "        )\n",
    "        net = tf.layers.max_pooling2d(\n",
    "            inputs=net,\n",
    "            pool_size=[2, 2],\n",
    "            strides=[2,2]\n",
    "        )        \n",
    "    net = tf.layers.flatten(net)\n",
    "    net = tf.layers.dense(inputs=net, units=512)\n",
    "    net = tf.layers.dense(inputs=net, units=128)\n",
    "    net = tf.layers.dense(inputs=net, units=10)\n",
    "    logits = tf.layers.dense(inputs=net, units=1) # only steering angle\n",
    "    output = tf.squeeze(logits)\n",
    "    \n",
    "    if mode == tf.estimator.ModeKeys.PREDICT:\n",
    "        predictions = {\n",
    "            \"output\": output,\n",
    "        }\n",
    "        return tf.estimator.EstimatorSpec(mode=mode, predictions=predictions)\n",
    "    \n",
    "    loss = tf.losses.mean_squared_error(labels, output)\n",
    "    \n",
    "    optimizer = tf.train.AdamOptimizer()\n",
    "    train_op = optimizer.minimize(loss=loss, global_step=tf.train.get_global_step())\n",
    "    \n",
    "    eval_metric_ops = {\n",
    "        \"rmse\": tf.metrics.root_mean_squared_error(labels, output)\n",
    "    }\n",
    "    return tf.estimator.EstimatorSpec(\n",
    "        mode=mode, \n",
    "        loss=loss, \n",
    "        train_op=train_op,\n",
    "        eval_metric_ops=eval_metric_ops)"
   ]
  },
  {
   "cell_type": "code",
   "execution_count": 19,
   "metadata": {},
   "outputs": [
    {
     "name": "stdout",
     "output_type": "stream",
     "text": [
      "INFO:tensorflow:Using default config.\n",
      "INFO:tensorflow:Using config: {'_num_ps_replicas': 0, '_tf_random_seed': None, '_is_chief': True, '_task_id': 0, '_task_type': 'worker', '_keep_checkpoint_max': 5, '_num_worker_replicas': 1, '_keep_checkpoint_every_n_hours': 10000, '_session_config': None, '_service': None, '_master': '', '_save_checkpoints_secs': 600, '_model_dir': 'E:\\\\temp\\\\my_estimator', '_save_summary_steps': 100, '_log_step_count_steps': 100, '_cluster_spec': <tensorflow.python.training.server_lib.ClusterSpec object at 0x0000022804AE9860>, '_save_checkpoints_steps': None}\n"
     ]
    }
   ],
   "source": [
    "my_estimator = tf.estimator.Estimator(\n",
    "    model_fn=my_model_fn,\n",
    "    model_dir=\"E:\\\\temp\\\\my_estimator\"\n",
    ")"
   ]
  },
  {
   "cell_type": "code",
   "execution_count": 20,
   "metadata": {},
   "outputs": [],
   "source": [
    "train_spec = tf.estimator.TrainSpec(\n",
    "    input_fn=train_input_fn,\n",
    "    max_steps=5000\n",
    ")\n",
    "\n",
    "test_spec = tf.estimator.EvalSpec(\n",
    "    input_fn=test_input_fn,\n",
    "    steps=50, throttle_secs=60\n",
    ")"
   ]
  },
  {
   "cell_type": "code",
   "execution_count": 21,
   "metadata": {},
   "outputs": [
    {
     "name": "stdout",
     "output_type": "stream",
     "text": [
      "INFO:tensorflow:Running training and evaluation locally (non-distributed).\n",
      "INFO:tensorflow:Start train and evaluate loop. The evaluate will happen after 60 secs (eval_spec.throttle_secs) or training is finished.\n",
      "INFO:tensorflow:Create CheckpointSaverHook.\n",
      "INFO:tensorflow:Saving checkpoints for 1 into E:\\temp\\my_estimator\\model.ckpt.\n",
      "INFO:tensorflow:step = 1, loss = 0.584787\n",
      "INFO:tensorflow:global_step/sec: 17.0749\n",
      "INFO:tensorflow:step = 101, loss = 0.0395434 (5.861 sec)\n",
      "INFO:tensorflow:global_step/sec: 19.6134\n",
      "INFO:tensorflow:step = 201, loss = 0.0494057 (5.098 sec)\n",
      "INFO:tensorflow:global_step/sec: 19.5213\n",
      "INFO:tensorflow:step = 301, loss = 0.0267567 (5.126 sec)\n",
      "INFO:tensorflow:global_step/sec: 19.3772\n",
      "INFO:tensorflow:step = 401, loss = 0.0373968 (5.157 sec)\n",
      "INFO:tensorflow:global_step/sec: 19.4679\n",
      "INFO:tensorflow:step = 501, loss = 0.0319365 (5.140 sec)\n",
      "INFO:tensorflow:global_step/sec: 19.5251\n",
      "INFO:tensorflow:step = 601, loss = 0.0291568 (5.121 sec)\n",
      "INFO:tensorflow:global_step/sec: 19.7181\n",
      "INFO:tensorflow:step = 701, loss = 0.0268002 (5.069 sec)\n",
      "INFO:tensorflow:global_step/sec: 19.6559\n",
      "INFO:tensorflow:step = 801, loss = 0.0221703 (5.092 sec)\n",
      "INFO:tensorflow:global_step/sec: 19.187\n",
      "INFO:tensorflow:step = 901, loss = 0.0187486 (5.208 sec)\n",
      "INFO:tensorflow:global_step/sec: 19.4793\n",
      "INFO:tensorflow:step = 1001, loss = 0.0136613 (5.134 sec)\n",
      "INFO:tensorflow:Saving checkpoints for 1045 into E:\\temp\\my_estimator\\model.ckpt.\n",
      "INFO:tensorflow:Loss for final step: 0.0157893.\n",
      "INFO:tensorflow:Starting evaluation at 2018-01-15-14:15:50\n",
      "INFO:tensorflow:Restoring parameters from E:\\temp\\my_estimator\\model.ckpt-1045\n",
      "INFO:tensorflow:Evaluation [1/50]\n",
      "INFO:tensorflow:Evaluation [2/50]\n",
      "INFO:tensorflow:Evaluation [3/50]\n",
      "INFO:tensorflow:Evaluation [4/50]\n",
      "INFO:tensorflow:Evaluation [5/50]\n",
      "INFO:tensorflow:Evaluation [6/50]\n",
      "INFO:tensorflow:Evaluation [7/50]\n",
      "INFO:tensorflow:Evaluation [8/50]\n",
      "INFO:tensorflow:Evaluation [9/50]\n",
      "INFO:tensorflow:Evaluation [10/50]\n",
      "INFO:tensorflow:Evaluation [11/50]\n",
      "INFO:tensorflow:Evaluation [12/50]\n",
      "INFO:tensorflow:Evaluation [13/50]\n",
      "INFO:tensorflow:Evaluation [14/50]\n",
      "INFO:tensorflow:Evaluation [15/50]\n",
      "INFO:tensorflow:Evaluation [16/50]\n",
      "INFO:tensorflow:Evaluation [17/50]\n",
      "INFO:tensorflow:Evaluation [18/50]\n",
      "INFO:tensorflow:Evaluation [19/50]\n",
      "INFO:tensorflow:Evaluation [20/50]\n",
      "INFO:tensorflow:Evaluation [21/50]\n",
      "INFO:tensorflow:Evaluation [22/50]\n",
      "INFO:tensorflow:Evaluation [23/50]\n",
      "INFO:tensorflow:Evaluation [24/50]\n",
      "INFO:tensorflow:Evaluation [25/50]\n",
      "INFO:tensorflow:Evaluation [26/50]\n",
      "INFO:tensorflow:Evaluation [27/50]\n",
      "INFO:tensorflow:Evaluation [28/50]\n",
      "INFO:tensorflow:Evaluation [29/50]\n",
      "INFO:tensorflow:Evaluation [30/50]\n",
      "INFO:tensorflow:Evaluation [31/50]\n",
      "INFO:tensorflow:Evaluation [32/50]\n",
      "INFO:tensorflow:Evaluation [33/50]\n",
      "INFO:tensorflow:Evaluation [34/50]\n",
      "INFO:tensorflow:Evaluation [35/50]\n",
      "INFO:tensorflow:Evaluation [36/50]\n",
      "INFO:tensorflow:Evaluation [37/50]\n",
      "INFO:tensorflow:Evaluation [38/50]\n",
      "INFO:tensorflow:Evaluation [39/50]\n",
      "INFO:tensorflow:Evaluation [40/50]\n",
      "INFO:tensorflow:Evaluation [41/50]\n",
      "INFO:tensorflow:Evaluation [42/50]\n",
      "INFO:tensorflow:Evaluation [43/50]\n",
      "INFO:tensorflow:Evaluation [44/50]\n",
      "INFO:tensorflow:Evaluation [45/50]\n",
      "INFO:tensorflow:Evaluation [46/50]\n",
      "INFO:tensorflow:Evaluation [47/50]\n",
      "INFO:tensorflow:Evaluation [48/50]\n",
      "INFO:tensorflow:Evaluation [49/50]\n",
      "INFO:tensorflow:Evaluation [50/50]\n",
      "INFO:tensorflow:Finished evaluation at 2018-01-15-14:15:54\n",
      "INFO:tensorflow:Saving dict for global step 1045: global_step = 1045, loss = 0.0175874, rmse = 0.132618\n",
      "INFO:tensorflow:Create CheckpointSaverHook.\n",
      "INFO:tensorflow:Restoring parameters from E:\\temp\\my_estimator\\model.ckpt-1045\n",
      "INFO:tensorflow:Saving checkpoints for 1046 into E:\\temp\\my_estimator\\model.ckpt.\n",
      "INFO:tensorflow:step = 1046, loss = 0.0112453\n",
      "INFO:tensorflow:global_step/sec: 19.1032\n",
      "INFO:tensorflow:step = 1146, loss = 0.0160088 (5.238 sec)\n",
      "INFO:tensorflow:global_step/sec: 19.3922\n",
      "INFO:tensorflow:step = 1246, loss = 0.0128025 (5.157 sec)\n",
      "INFO:tensorflow:global_step/sec: 19.6521\n",
      "INFO:tensorflow:step = 1346, loss = 0.0138781 (5.091 sec)\n",
      "INFO:tensorflow:global_step/sec: 19.3809\n",
      "INFO:tensorflow:step = 1446, loss = 0.00933546 (5.159 sec)\n",
      "INFO:tensorflow:global_step/sec: 19.5175\n",
      "INFO:tensorflow:step = 1546, loss = 0.00723384 (5.122 sec)\n",
      "INFO:tensorflow:global_step/sec: 19.1907\n",
      "INFO:tensorflow:step = 1646, loss = 0.0138703 (5.209 sec)\n",
      "INFO:tensorflow:global_step/sec: 19.291\n",
      "INFO:tensorflow:step = 1746, loss = 0.00541171 (5.187 sec)\n",
      "INFO:tensorflow:global_step/sec: 19.3246\n",
      "INFO:tensorflow:step = 1846, loss = 0.00600682 (5.172 sec)\n",
      "INFO:tensorflow:global_step/sec: 19.026\n",
      "INFO:tensorflow:step = 1946, loss = 0.00684906 (5.286 sec)\n",
      "INFO:tensorflow:global_step/sec: 18.3706\n",
      "INFO:tensorflow:step = 2046, loss = 0.00660866 (5.415 sec)\n",
      "INFO:tensorflow:Saving checkpoints for 2113 into E:\\temp\\my_estimator\\model.ckpt.\n",
      "INFO:tensorflow:Loss for final step: 0.0054053.\n",
      "INFO:tensorflow:Starting evaluation at 2018-01-15-14:16:58\n",
      "INFO:tensorflow:Restoring parameters from E:\\temp\\my_estimator\\model.ckpt-2113\n",
      "INFO:tensorflow:Evaluation [1/50]\n",
      "INFO:tensorflow:Evaluation [2/50]\n",
      "INFO:tensorflow:Evaluation [3/50]\n",
      "INFO:tensorflow:Evaluation [4/50]\n",
      "INFO:tensorflow:Evaluation [5/50]\n",
      "INFO:tensorflow:Evaluation [6/50]\n",
      "INFO:tensorflow:Evaluation [7/50]\n",
      "INFO:tensorflow:Evaluation [8/50]\n",
      "INFO:tensorflow:Evaluation [9/50]\n",
      "INFO:tensorflow:Evaluation [10/50]\n",
      "INFO:tensorflow:Evaluation [11/50]\n",
      "INFO:tensorflow:Evaluation [12/50]\n",
      "INFO:tensorflow:Evaluation [13/50]\n",
      "INFO:tensorflow:Evaluation [14/50]\n",
      "INFO:tensorflow:Evaluation [15/50]\n",
      "INFO:tensorflow:Evaluation [16/50]\n",
      "INFO:tensorflow:Evaluation [17/50]\n",
      "INFO:tensorflow:Evaluation [18/50]\n",
      "INFO:tensorflow:Evaluation [19/50]\n",
      "INFO:tensorflow:Evaluation [20/50]\n",
      "INFO:tensorflow:Evaluation [21/50]\n",
      "INFO:tensorflow:Evaluation [22/50]\n",
      "INFO:tensorflow:Evaluation [23/50]\n",
      "INFO:tensorflow:Evaluation [24/50]\n",
      "INFO:tensorflow:Evaluation [25/50]\n",
      "INFO:tensorflow:Evaluation [26/50]\n",
      "INFO:tensorflow:Evaluation [27/50]\n",
      "INFO:tensorflow:Evaluation [28/50]\n",
      "INFO:tensorflow:Evaluation [29/50]\n",
      "INFO:tensorflow:Evaluation [30/50]\n",
      "INFO:tensorflow:Evaluation [31/50]\n",
      "INFO:tensorflow:Evaluation [32/50]\n",
      "INFO:tensorflow:Evaluation [33/50]\n",
      "INFO:tensorflow:Evaluation [34/50]\n",
      "INFO:tensorflow:Evaluation [35/50]\n",
      "INFO:tensorflow:Evaluation [36/50]\n",
      "INFO:tensorflow:Evaluation [37/50]\n",
      "INFO:tensorflow:Evaluation [38/50]\n",
      "INFO:tensorflow:Evaluation [39/50]\n",
      "INFO:tensorflow:Evaluation [40/50]\n",
      "INFO:tensorflow:Evaluation [41/50]\n",
      "INFO:tensorflow:Evaluation [42/50]\n",
      "INFO:tensorflow:Evaluation [43/50]\n",
      "INFO:tensorflow:Evaluation [44/50]\n",
      "INFO:tensorflow:Evaluation [45/50]\n",
      "INFO:tensorflow:Evaluation [46/50]\n",
      "INFO:tensorflow:Evaluation [47/50]\n",
      "INFO:tensorflow:Evaluation [48/50]\n",
      "INFO:tensorflow:Evaluation [49/50]\n",
      "INFO:tensorflow:Evaluation [50/50]\n",
      "INFO:tensorflow:Finished evaluation at 2018-01-15-14:17:02\n",
      "INFO:tensorflow:Saving dict for global step 2113: global_step = 2113, loss = 0.00487257, rmse = 0.0698038\n",
      "INFO:tensorflow:Create CheckpointSaverHook.\n",
      "INFO:tensorflow:Restoring parameters from E:\\temp\\my_estimator\\model.ckpt-2113\n",
      "INFO:tensorflow:Saving checkpoints for 2114 into E:\\temp\\my_estimator\\model.ckpt.\n",
      "INFO:tensorflow:step = 2114, loss = 0.00457899\n",
      "INFO:tensorflow:global_step/sec: 17.5681\n",
      "INFO:tensorflow:step = 2214, loss = 0.00491493 (5.697 sec)\n",
      "INFO:tensorflow:global_step/sec: 18.6943\n",
      "INFO:tensorflow:step = 2314, loss = 0.00328933 (5.346 sec)\n",
      "INFO:tensorflow:global_step/sec: 18.6594\n",
      "INFO:tensorflow:step = 2414, loss = 0.0022422 (5.363 sec)\n",
      "INFO:tensorflow:global_step/sec: 17.3391\n",
      "INFO:tensorflow:step = 2514, loss = 0.00266153 (5.772 sec)\n",
      "INFO:tensorflow:global_step/sec: 17.0108\n",
      "INFO:tensorflow:step = 2614, loss = 0.0025551 (5.872 sec)\n",
      "INFO:tensorflow:global_step/sec: 18.1072\n",
      "INFO:tensorflow:step = 2714, loss = 0.00915247 (5.522 sec)\n",
      "INFO:tensorflow:global_step/sec: 19.2798\n",
      "INFO:tensorflow:step = 2814, loss = 0.0054006 (5.189 sec)\n",
      "INFO:tensorflow:global_step/sec: 19.5557\n",
      "INFO:tensorflow:step = 2914, loss = 0.00265075 (5.117 sec)\n",
      "INFO:tensorflow:global_step/sec: 19.1686\n",
      "INFO:tensorflow:step = 3014, loss = 0.00326275 (5.214 sec)\n",
      "INFO:tensorflow:global_step/sec: 18.9861\n",
      "INFO:tensorflow:step = 3114, loss = 0.0018738 (5.268 sec)\n"
     ]
    },
    {
     "name": "stdout",
     "output_type": "stream",
     "text": [
      "INFO:tensorflow:Saving checkpoints for 3135 into E:\\temp\\my_estimator\\model.ckpt.\n",
      "INFO:tensorflow:Loss for final step: 0.00276522.\n",
      "INFO:tensorflow:Starting evaluation at 2018-01-15-14:18:05\n",
      "INFO:tensorflow:Restoring parameters from E:\\temp\\my_estimator\\model.ckpt-3135\n",
      "INFO:tensorflow:Evaluation [1/50]\n",
      "INFO:tensorflow:Evaluation [2/50]\n",
      "INFO:tensorflow:Evaluation [3/50]\n",
      "INFO:tensorflow:Evaluation [4/50]\n",
      "INFO:tensorflow:Evaluation [5/50]\n",
      "INFO:tensorflow:Evaluation [6/50]\n",
      "INFO:tensorflow:Evaluation [7/50]\n",
      "INFO:tensorflow:Evaluation [8/50]\n",
      "INFO:tensorflow:Evaluation [9/50]\n",
      "INFO:tensorflow:Evaluation [10/50]\n",
      "INFO:tensorflow:Evaluation [11/50]\n",
      "INFO:tensorflow:Evaluation [12/50]\n",
      "INFO:tensorflow:Evaluation [13/50]\n",
      "INFO:tensorflow:Evaluation [14/50]\n",
      "INFO:tensorflow:Evaluation [15/50]\n",
      "INFO:tensorflow:Evaluation [16/50]\n",
      "INFO:tensorflow:Evaluation [17/50]\n",
      "INFO:tensorflow:Evaluation [18/50]\n",
      "INFO:tensorflow:Evaluation [19/50]\n",
      "INFO:tensorflow:Evaluation [20/50]\n",
      "INFO:tensorflow:Evaluation [21/50]\n",
      "INFO:tensorflow:Evaluation [22/50]\n",
      "INFO:tensorflow:Evaluation [23/50]\n",
      "INFO:tensorflow:Evaluation [24/50]\n",
      "INFO:tensorflow:Evaluation [25/50]\n",
      "INFO:tensorflow:Evaluation [26/50]\n",
      "INFO:tensorflow:Evaluation [27/50]\n",
      "INFO:tensorflow:Evaluation [28/50]\n",
      "INFO:tensorflow:Evaluation [29/50]\n",
      "INFO:tensorflow:Evaluation [30/50]\n",
      "INFO:tensorflow:Evaluation [31/50]\n",
      "INFO:tensorflow:Evaluation [32/50]\n",
      "INFO:tensorflow:Evaluation [33/50]\n",
      "INFO:tensorflow:Evaluation [34/50]\n",
      "INFO:tensorflow:Evaluation [35/50]\n",
      "INFO:tensorflow:Evaluation [36/50]\n",
      "INFO:tensorflow:Evaluation [37/50]\n",
      "INFO:tensorflow:Evaluation [38/50]\n",
      "INFO:tensorflow:Evaluation [39/50]\n",
      "INFO:tensorflow:Evaluation [40/50]\n",
      "INFO:tensorflow:Evaluation [41/50]\n",
      "INFO:tensorflow:Evaluation [42/50]\n",
      "INFO:tensorflow:Evaluation [43/50]\n",
      "INFO:tensorflow:Evaluation [44/50]\n",
      "INFO:tensorflow:Evaluation [45/50]\n",
      "INFO:tensorflow:Evaluation [46/50]\n",
      "INFO:tensorflow:Evaluation [47/50]\n",
      "INFO:tensorflow:Evaluation [48/50]\n",
      "INFO:tensorflow:Evaluation [49/50]\n",
      "INFO:tensorflow:Evaluation [50/50]\n",
      "INFO:tensorflow:Finished evaluation at 2018-01-15-14:18:09\n",
      "INFO:tensorflow:Saving dict for global step 3135: global_step = 3135, loss = 0.0025126, rmse = 0.0501258\n",
      "INFO:tensorflow:Create CheckpointSaverHook.\n",
      "INFO:tensorflow:Restoring parameters from E:\\temp\\my_estimator\\model.ckpt-3135\n",
      "INFO:tensorflow:Saving checkpoints for 3136 into E:\\temp\\my_estimator\\model.ckpt.\n",
      "INFO:tensorflow:step = 3136, loss = 0.00117879\n",
      "INFO:tensorflow:global_step/sec: 19.1649\n",
      "INFO:tensorflow:step = 3236, loss = 0.00254358 (5.223 sec)\n",
      "INFO:tensorflow:global_step/sec: 18.6315\n",
      "INFO:tensorflow:step = 3336, loss = 0.00233618 (5.368 sec)\n",
      "INFO:tensorflow:global_step/sec: 16.5589\n",
      "INFO:tensorflow:step = 3436, loss = 0.00112982 (6.035 sec)\n",
      "INFO:tensorflow:global_step/sec: 19.4755\n",
      "INFO:tensorflow:step = 3536, loss = 0.00300638 (5.138 sec)\n",
      "INFO:tensorflow:global_step/sec: 19.276\n",
      "INFO:tensorflow:step = 3636, loss = 0.00297431 (5.185 sec)\n",
      "INFO:tensorflow:global_step/sec: 18.9501\n",
      "INFO:tensorflow:step = 3736, loss = 0.00427117 (5.282 sec)\n",
      "INFO:tensorflow:global_step/sec: 19.6211\n",
      "INFO:tensorflow:step = 3836, loss = 0.00234275 (5.112 sec)\n",
      "INFO:tensorflow:global_step/sec: 19.2909\n",
      "INFO:tensorflow:step = 3936, loss = 0.00155328 (5.166 sec)\n",
      "INFO:tensorflow:global_step/sec: 19.8753\n",
      "INFO:tensorflow:step = 4036, loss = 0.002166 (5.029 sec)\n",
      "INFO:tensorflow:global_step/sec: 19.2426\n",
      "INFO:tensorflow:step = 4136, loss = 0.00163108 (5.197 sec)\n",
      "INFO:tensorflow:Saving checkpoints for 4190 into E:\\temp\\my_estimator\\model.ckpt.\n",
      "INFO:tensorflow:Loss for final step: 0.00254868.\n",
      "INFO:tensorflow:Starting evaluation at 2018-01-15-14:19:12\n",
      "INFO:tensorflow:Restoring parameters from E:\\temp\\my_estimator\\model.ckpt-4190\n",
      "INFO:tensorflow:Evaluation [1/50]\n",
      "INFO:tensorflow:Evaluation [2/50]\n",
      "INFO:tensorflow:Evaluation [3/50]\n",
      "INFO:tensorflow:Evaluation [4/50]\n",
      "INFO:tensorflow:Evaluation [5/50]\n",
      "INFO:tensorflow:Evaluation [6/50]\n",
      "INFO:tensorflow:Evaluation [7/50]\n",
      "INFO:tensorflow:Evaluation [8/50]\n",
      "INFO:tensorflow:Evaluation [9/50]\n",
      "INFO:tensorflow:Evaluation [10/50]\n",
      "INFO:tensorflow:Evaluation [11/50]\n",
      "INFO:tensorflow:Evaluation [12/50]\n",
      "INFO:tensorflow:Evaluation [13/50]\n",
      "INFO:tensorflow:Evaluation [14/50]\n",
      "INFO:tensorflow:Evaluation [15/50]\n",
      "INFO:tensorflow:Evaluation [16/50]\n",
      "INFO:tensorflow:Evaluation [17/50]\n",
      "INFO:tensorflow:Evaluation [18/50]\n",
      "INFO:tensorflow:Evaluation [19/50]\n",
      "INFO:tensorflow:Evaluation [20/50]\n",
      "INFO:tensorflow:Evaluation [21/50]\n",
      "INFO:tensorflow:Evaluation [22/50]\n",
      "INFO:tensorflow:Evaluation [23/50]\n",
      "INFO:tensorflow:Evaluation [24/50]\n",
      "INFO:tensorflow:Evaluation [25/50]\n",
      "INFO:tensorflow:Evaluation [26/50]\n",
      "INFO:tensorflow:Evaluation [27/50]\n",
      "INFO:tensorflow:Evaluation [28/50]\n",
      "INFO:tensorflow:Evaluation [29/50]\n",
      "INFO:tensorflow:Evaluation [30/50]\n",
      "INFO:tensorflow:Evaluation [31/50]\n",
      "INFO:tensorflow:Evaluation [32/50]\n",
      "INFO:tensorflow:Evaluation [33/50]\n",
      "INFO:tensorflow:Evaluation [34/50]\n",
      "INFO:tensorflow:Evaluation [35/50]\n",
      "INFO:tensorflow:Evaluation [36/50]\n",
      "INFO:tensorflow:Evaluation [37/50]\n",
      "INFO:tensorflow:Evaluation [38/50]\n",
      "INFO:tensorflow:Evaluation [39/50]\n",
      "INFO:tensorflow:Evaluation [40/50]\n",
      "INFO:tensorflow:Evaluation [41/50]\n",
      "INFO:tensorflow:Evaluation [42/50]\n",
      "INFO:tensorflow:Evaluation [43/50]\n",
      "INFO:tensorflow:Evaluation [44/50]\n",
      "INFO:tensorflow:Evaluation [45/50]\n",
      "INFO:tensorflow:Evaluation [46/50]\n",
      "INFO:tensorflow:Evaluation [47/50]\n",
      "INFO:tensorflow:Evaluation [48/50]\n",
      "INFO:tensorflow:Evaluation [49/50]\n",
      "INFO:tensorflow:Evaluation [50/50]\n",
      "INFO:tensorflow:Finished evaluation at 2018-01-15-14:19:16\n",
      "INFO:tensorflow:Saving dict for global step 4190: global_step = 4190, loss = 0.00242326, rmse = 0.0492266\n",
      "INFO:tensorflow:Create CheckpointSaverHook.\n",
      "INFO:tensorflow:Restoring parameters from E:\\temp\\my_estimator\\model.ckpt-4190\n",
      "INFO:tensorflow:Saving checkpoints for 4191 into E:\\temp\\my_estimator\\model.ckpt.\n",
      "INFO:tensorflow:step = 4191, loss = 0.00164028\n",
      "INFO:tensorflow:global_step/sec: 19.2055\n",
      "INFO:tensorflow:step = 4291, loss = 0.00198752 (5.208 sec)\n",
      "INFO:tensorflow:global_step/sec: 19.5328\n",
      "INFO:tensorflow:step = 4391, loss = 0.00235546 (5.122 sec)\n",
      "INFO:tensorflow:global_step/sec: 19.4641\n",
      "INFO:tensorflow:step = 4491, loss = 0.00386377 (5.141 sec)\n",
      "INFO:tensorflow:global_step/sec: 19.6019\n",
      "INFO:tensorflow:step = 4591, loss = 0.0019706 (5.097 sec)\n",
      "INFO:tensorflow:global_step/sec: 19.5251\n",
      "INFO:tensorflow:step = 4691, loss = 0.00135884 (5.122 sec)\n",
      "INFO:tensorflow:global_step/sec: 19.4641\n",
      "INFO:tensorflow:step = 4791, loss = 0.00226441 (5.138 sec)\n",
      "INFO:tensorflow:global_step/sec: 19.6559\n",
      "INFO:tensorflow:step = 4891, loss = 0.00227162 (5.089 sec)\n",
      "INFO:tensorflow:global_step/sec: 19.8793\n",
      "INFO:tensorflow:step = 4991, loss = 0.00201185 (5.028 sec)\n",
      "INFO:tensorflow:Saving checkpoints for 5000 into E:\\temp\\my_estimator\\model.ckpt.\n",
      "INFO:tensorflow:Loss for final step: 0.00196182.\n",
      "INFO:tensorflow:Starting evaluation at 2018-01-15-14:20:05\n",
      "INFO:tensorflow:Restoring parameters from E:\\temp\\my_estimator\\model.ckpt-5000\n",
      "INFO:tensorflow:Evaluation [1/50]\n",
      "INFO:tensorflow:Evaluation [2/50]\n",
      "INFO:tensorflow:Evaluation [3/50]\n",
      "INFO:tensorflow:Evaluation [4/50]\n",
      "INFO:tensorflow:Evaluation [5/50]\n",
      "INFO:tensorflow:Evaluation [6/50]\n",
      "INFO:tensorflow:Evaluation [7/50]\n",
      "INFO:tensorflow:Evaluation [8/50]\n",
      "INFO:tensorflow:Evaluation [9/50]\n",
      "INFO:tensorflow:Evaluation [10/50]\n",
      "INFO:tensorflow:Evaluation [11/50]\n",
      "INFO:tensorflow:Evaluation [12/50]\n",
      "INFO:tensorflow:Evaluation [13/50]\n",
      "INFO:tensorflow:Evaluation [14/50]\n",
      "INFO:tensorflow:Evaluation [15/50]\n",
      "INFO:tensorflow:Evaluation [16/50]\n",
      "INFO:tensorflow:Evaluation [17/50]\n",
      "INFO:tensorflow:Evaluation [18/50]\n",
      "INFO:tensorflow:Evaluation [19/50]\n",
      "INFO:tensorflow:Evaluation [20/50]\n",
      "INFO:tensorflow:Evaluation [21/50]\n",
      "INFO:tensorflow:Evaluation [22/50]\n",
      "INFO:tensorflow:Evaluation [23/50]\n",
      "INFO:tensorflow:Evaluation [24/50]\n",
      "INFO:tensorflow:Evaluation [25/50]\n",
      "INFO:tensorflow:Evaluation [26/50]\n",
      "INFO:tensorflow:Evaluation [27/50]\n",
      "INFO:tensorflow:Evaluation [28/50]\n",
      "INFO:tensorflow:Evaluation [29/50]\n",
      "INFO:tensorflow:Evaluation [30/50]\n",
      "INFO:tensorflow:Evaluation [31/50]\n",
      "INFO:tensorflow:Evaluation [32/50]\n",
      "INFO:tensorflow:Evaluation [33/50]\n",
      "INFO:tensorflow:Evaluation [34/50]\n",
      "INFO:tensorflow:Evaluation [35/50]\n",
      "INFO:tensorflow:Evaluation [36/50]\n",
      "INFO:tensorflow:Evaluation [37/50]\n"
     ]
    },
    {
     "name": "stdout",
     "output_type": "stream",
     "text": [
      "INFO:tensorflow:Evaluation [38/50]\n",
      "INFO:tensorflow:Evaluation [39/50]\n",
      "INFO:tensorflow:Evaluation [40/50]\n",
      "INFO:tensorflow:Evaluation [41/50]\n",
      "INFO:tensorflow:Evaluation [42/50]\n",
      "INFO:tensorflow:Evaluation [43/50]\n",
      "INFO:tensorflow:Evaluation [44/50]\n",
      "INFO:tensorflow:Evaluation [45/50]\n",
      "INFO:tensorflow:Evaluation [46/50]\n",
      "INFO:tensorflow:Evaluation [47/50]\n",
      "INFO:tensorflow:Evaluation [48/50]\n",
      "INFO:tensorflow:Evaluation [49/50]\n",
      "INFO:tensorflow:Evaluation [50/50]\n",
      "INFO:tensorflow:Finished evaluation at 2018-01-15-14:20:09\n",
      "INFO:tensorflow:Saving dict for global step 5000: global_step = 5000, loss = 0.00357471, rmse = 0.0597889\n"
     ]
    }
   ],
   "source": [
    "tf.estimator.train_and_evaluate(my_estimator, train_spec, test_spec)"
   ]
  },
  {
   "cell_type": "code",
   "execution_count": 38,
   "metadata": {},
   "outputs": [],
   "source": [
    "predict_input_fn = get_input_fn(train_data[0:10], train_labels[0:10], tf.estimator.ModeKeys.PREDICT)"
   ]
  },
  {
   "cell_type": "code",
   "execution_count": 39,
   "metadata": {},
   "outputs": [],
   "source": [
    "predictions = my_estimator.predict(input_fn=predict_input_fn)"
   ]
  },
  {
   "cell_type": "code",
   "execution_count": 35,
   "metadata": {},
   "outputs": [
    {
     "data": {
      "text/plain": [
       "<generator object Estimator.predict at 0x00000229D6053C50>"
      ]
     },
     "execution_count": 35,
     "metadata": {},
     "output_type": "execute_result"
    }
   ],
   "source": [
    "predictions"
   ]
  },
  {
   "cell_type": "code",
   "execution_count": 40,
   "metadata": {},
   "outputs": [
    {
     "name": "stdout",
     "output_type": "stream",
     "text": [
      "WARNING:tensorflow:Input graph does not contain a QueueRunner. That means predict yields forever. This is probably a mistake.\n",
      "INFO:tensorflow:Restoring parameters from E:\\temp\\my_estimator\\model.ckpt-5000\n",
      "[0.078390844, 0.053177118, 0.02075159, 0.040205192, 0.014565398, 0.06641838, 0.053918242, 0.037990037, -0.017086534, 0.073967986]\n"
     ]
    }
   ],
   "source": [
    "outputs = []\n",
    "N = 10\n",
    "\n",
    "for i, output in enumerate(predictions):\n",
    "    if i == N:\n",
    "        break\n",
    "    outputs.append(output['output'])\n",
    "print(outputs)"
   ]
  },
  {
   "cell_type": "code",
   "execution_count": 41,
   "metadata": {},
   "outputs": [],
   "source": [
    "import itertools"
   ]
  },
  {
   "cell_type": "code",
   "execution_count": 42,
   "metadata": {},
   "outputs": [
    {
     "data": {
      "text/plain": [
       "[{'output': 0.053177118},\n",
       " {'output': 0.014565398},\n",
       " {'output': -0.0084536998},\n",
       " {'output': 0.06641838},\n",
       " {'output': 0.022791404}]"
      ]
     },
     "execution_count": 42,
     "metadata": {},
     "output_type": "execute_result"
    }
   ],
   "source": [
    "list(itertools.islice(predictions, 5))"
   ]
  },
  {
   "cell_type": "code",
   "execution_count": null,
   "metadata": {},
   "outputs": [],
   "source": []
  }
 ],
 "metadata": {
  "kernelspec": {
   "display_name": "Python 3",
   "language": "python",
   "name": "python3"
  },
  "language_info": {
   "codemirror_mode": {
    "name": "ipython",
    "version": 3
   },
   "file_extension": ".py",
   "mimetype": "text/x-python",
   "name": "python",
   "nbconvert_exporter": "python",
   "pygments_lexer": "ipython3",
   "version": "3.5.4"
  },
  "widgets": {
   "state": {},
   "version": "1.1.2"
  }
 },
 "nbformat": 4,
 "nbformat_minor": 2
}
