{
 "cells": [
  {
   "cell_type": "code",
   "execution_count": 65,
   "metadata": {},
   "outputs": [],
   "source": [
    "import pandas as pd\n",
    "import numpy\n",
    "import tensorflow as tf\n",
    "import matplotlib.pyplot as plt"
   ]
  },
  {
   "cell_type": "code",
   "execution_count": 66,
   "metadata": {},
   "outputs": [],
   "source": [
    "FILE_PATH = \"C:\\\\Users\\\\quanh\\\\Desktop\\\\datasets\\\\06\\\\driving_log.csv\""
   ]
  },
  {
   "cell_type": "code",
   "execution_count": 67,
   "metadata": {},
   "outputs": [],
   "source": [
    "df = pd.read_csv(FILE_PATH,\n",
    "                names=['center','left','right','steering','throttle','break','speed'], header=None)"
   ]
  },
  {
   "cell_type": "code",
   "execution_count": 68,
   "metadata": {},
   "outputs": [
    {
     "data": {
      "text/plain": [
       "Index(['center', 'left', 'right', 'steering', 'throttle', 'break', 'speed'], dtype='object')"
      ]
     },
     "execution_count": 68,
     "metadata": {},
     "output_type": "execute_result"
    }
   ],
   "source": [
    "df.columns"
   ]
  },
  {
   "cell_type": "code",
   "execution_count": 69,
   "metadata": {},
   "outputs": [
    {
     "data": {
      "text/plain": [
       "center      8012\n",
       "left        8012\n",
       "right       8012\n",
       "steering    8012\n",
       "throttle    8012\n",
       "break       8012\n",
       "speed       8012\n",
       "dtype: int64"
      ]
     },
     "execution_count": 69,
     "metadata": {},
     "output_type": "execute_result"
    }
   ],
   "source": [
    "df.count()"
   ]
  },
  {
   "cell_type": "code",
   "execution_count": 70,
   "metadata": {},
   "outputs": [
    {
     "data": {
      "text/html": [
       "<div>\n",
       "<style scoped>\n",
       "    .dataframe tbody tr th:only-of-type {\n",
       "        vertical-align: middle;\n",
       "    }\n",
       "\n",
       "    .dataframe tbody tr th {\n",
       "        vertical-align: top;\n",
       "    }\n",
       "\n",
       "    .dataframe thead th {\n",
       "        text-align: right;\n",
       "    }\n",
       "</style>\n",
       "<table border=\"1\" class=\"dataframe\">\n",
       "  <thead>\n",
       "    <tr style=\"text-align: right;\">\n",
       "      <th></th>\n",
       "      <th>center</th>\n",
       "      <th>left</th>\n",
       "      <th>right</th>\n",
       "      <th>steering</th>\n",
       "      <th>throttle</th>\n",
       "      <th>break</th>\n",
       "      <th>speed</th>\n",
       "    </tr>\n",
       "  </thead>\n",
       "  <tbody>\n",
       "    <tr>\n",
       "      <th>0</th>\n",
       "      <td>C:\\Users\\quanh\\Desktop\\datasets\\06\\IMG\\center_...</td>\n",
       "      <td>C:\\Users\\quanh\\Desktop\\datasets\\06\\IMG\\left_20...</td>\n",
       "      <td>C:\\Users\\quanh\\Desktop\\datasets\\06\\IMG\\right_2...</td>\n",
       "      <td>0.0</td>\n",
       "      <td>0.0</td>\n",
       "      <td>0</td>\n",
       "      <td>0.000008</td>\n",
       "    </tr>\n",
       "    <tr>\n",
       "      <th>1</th>\n",
       "      <td>C:\\Users\\quanh\\Desktop\\datasets\\06\\IMG\\center_...</td>\n",
       "      <td>C:\\Users\\quanh\\Desktop\\datasets\\06\\IMG\\left_20...</td>\n",
       "      <td>C:\\Users\\quanh\\Desktop\\datasets\\06\\IMG\\right_2...</td>\n",
       "      <td>0.0</td>\n",
       "      <td>0.0</td>\n",
       "      <td>0</td>\n",
       "      <td>0.000009</td>\n",
       "    </tr>\n",
       "    <tr>\n",
       "      <th>2</th>\n",
       "      <td>C:\\Users\\quanh\\Desktop\\datasets\\06\\IMG\\center_...</td>\n",
       "      <td>C:\\Users\\quanh\\Desktop\\datasets\\06\\IMG\\left_20...</td>\n",
       "      <td>C:\\Users\\quanh\\Desktop\\datasets\\06\\IMG\\right_2...</td>\n",
       "      <td>0.0</td>\n",
       "      <td>0.0</td>\n",
       "      <td>0</td>\n",
       "      <td>0.000010</td>\n",
       "    </tr>\n",
       "    <tr>\n",
       "      <th>3</th>\n",
       "      <td>C:\\Users\\quanh\\Desktop\\datasets\\06\\IMG\\center_...</td>\n",
       "      <td>C:\\Users\\quanh\\Desktop\\datasets\\06\\IMG\\left_20...</td>\n",
       "      <td>C:\\Users\\quanh\\Desktop\\datasets\\06\\IMG\\right_2...</td>\n",
       "      <td>0.0</td>\n",
       "      <td>0.0</td>\n",
       "      <td>0</td>\n",
       "      <td>0.000008</td>\n",
       "    </tr>\n",
       "    <tr>\n",
       "      <th>4</th>\n",
       "      <td>C:\\Users\\quanh\\Desktop\\datasets\\06\\IMG\\center_...</td>\n",
       "      <td>C:\\Users\\quanh\\Desktop\\datasets\\06\\IMG\\left_20...</td>\n",
       "      <td>C:\\Users\\quanh\\Desktop\\datasets\\06\\IMG\\right_2...</td>\n",
       "      <td>0.0</td>\n",
       "      <td>0.0</td>\n",
       "      <td>0</td>\n",
       "      <td>0.000008</td>\n",
       "    </tr>\n",
       "    <tr>\n",
       "      <th>5</th>\n",
       "      <td>C:\\Users\\quanh\\Desktop\\datasets\\06\\IMG\\center_...</td>\n",
       "      <td>C:\\Users\\quanh\\Desktop\\datasets\\06\\IMG\\left_20...</td>\n",
       "      <td>C:\\Users\\quanh\\Desktop\\datasets\\06\\IMG\\right_2...</td>\n",
       "      <td>0.0</td>\n",
       "      <td>0.0</td>\n",
       "      <td>0</td>\n",
       "      <td>0.000009</td>\n",
       "    </tr>\n",
       "    <tr>\n",
       "      <th>6</th>\n",
       "      <td>C:\\Users\\quanh\\Desktop\\datasets\\06\\IMG\\center_...</td>\n",
       "      <td>C:\\Users\\quanh\\Desktop\\datasets\\06\\IMG\\left_20...</td>\n",
       "      <td>C:\\Users\\quanh\\Desktop\\datasets\\06\\IMG\\right_2...</td>\n",
       "      <td>0.0</td>\n",
       "      <td>0.0</td>\n",
       "      <td>0</td>\n",
       "      <td>0.000009</td>\n",
       "    </tr>\n",
       "    <tr>\n",
       "      <th>7</th>\n",
       "      <td>C:\\Users\\quanh\\Desktop\\datasets\\06\\IMG\\center_...</td>\n",
       "      <td>C:\\Users\\quanh\\Desktop\\datasets\\06\\IMG\\left_20...</td>\n",
       "      <td>C:\\Users\\quanh\\Desktop\\datasets\\06\\IMG\\right_2...</td>\n",
       "      <td>0.0</td>\n",
       "      <td>0.0</td>\n",
       "      <td>0</td>\n",
       "      <td>0.000013</td>\n",
       "    </tr>\n",
       "    <tr>\n",
       "      <th>8</th>\n",
       "      <td>C:\\Users\\quanh\\Desktop\\datasets\\06\\IMG\\center_...</td>\n",
       "      <td>C:\\Users\\quanh\\Desktop\\datasets\\06\\IMG\\left_20...</td>\n",
       "      <td>C:\\Users\\quanh\\Desktop\\datasets\\06\\IMG\\right_2...</td>\n",
       "      <td>0.0</td>\n",
       "      <td>0.0</td>\n",
       "      <td>0</td>\n",
       "      <td>0.000002</td>\n",
       "    </tr>\n",
       "    <tr>\n",
       "      <th>9</th>\n",
       "      <td>C:\\Users\\quanh\\Desktop\\datasets\\06\\IMG\\center_...</td>\n",
       "      <td>C:\\Users\\quanh\\Desktop\\datasets\\06\\IMG\\left_20...</td>\n",
       "      <td>C:\\Users\\quanh\\Desktop\\datasets\\06\\IMG\\right_2...</td>\n",
       "      <td>0.0</td>\n",
       "      <td>0.0</td>\n",
       "      <td>0</td>\n",
       "      <td>0.000006</td>\n",
       "    </tr>\n",
       "  </tbody>\n",
       "</table>\n",
       "</div>"
      ],
      "text/plain": [
       "                                              center  \\\n",
       "0  C:\\Users\\quanh\\Desktop\\datasets\\06\\IMG\\center_...   \n",
       "1  C:\\Users\\quanh\\Desktop\\datasets\\06\\IMG\\center_...   \n",
       "2  C:\\Users\\quanh\\Desktop\\datasets\\06\\IMG\\center_...   \n",
       "3  C:\\Users\\quanh\\Desktop\\datasets\\06\\IMG\\center_...   \n",
       "4  C:\\Users\\quanh\\Desktop\\datasets\\06\\IMG\\center_...   \n",
       "5  C:\\Users\\quanh\\Desktop\\datasets\\06\\IMG\\center_...   \n",
       "6  C:\\Users\\quanh\\Desktop\\datasets\\06\\IMG\\center_...   \n",
       "7  C:\\Users\\quanh\\Desktop\\datasets\\06\\IMG\\center_...   \n",
       "8  C:\\Users\\quanh\\Desktop\\datasets\\06\\IMG\\center_...   \n",
       "9  C:\\Users\\quanh\\Desktop\\datasets\\06\\IMG\\center_...   \n",
       "\n",
       "                                                left  \\\n",
       "0  C:\\Users\\quanh\\Desktop\\datasets\\06\\IMG\\left_20...   \n",
       "1  C:\\Users\\quanh\\Desktop\\datasets\\06\\IMG\\left_20...   \n",
       "2  C:\\Users\\quanh\\Desktop\\datasets\\06\\IMG\\left_20...   \n",
       "3  C:\\Users\\quanh\\Desktop\\datasets\\06\\IMG\\left_20...   \n",
       "4  C:\\Users\\quanh\\Desktop\\datasets\\06\\IMG\\left_20...   \n",
       "5  C:\\Users\\quanh\\Desktop\\datasets\\06\\IMG\\left_20...   \n",
       "6  C:\\Users\\quanh\\Desktop\\datasets\\06\\IMG\\left_20...   \n",
       "7  C:\\Users\\quanh\\Desktop\\datasets\\06\\IMG\\left_20...   \n",
       "8  C:\\Users\\quanh\\Desktop\\datasets\\06\\IMG\\left_20...   \n",
       "9  C:\\Users\\quanh\\Desktop\\datasets\\06\\IMG\\left_20...   \n",
       "\n",
       "                                               right  steering  throttle  \\\n",
       "0  C:\\Users\\quanh\\Desktop\\datasets\\06\\IMG\\right_2...       0.0       0.0   \n",
       "1  C:\\Users\\quanh\\Desktop\\datasets\\06\\IMG\\right_2...       0.0       0.0   \n",
       "2  C:\\Users\\quanh\\Desktop\\datasets\\06\\IMG\\right_2...       0.0       0.0   \n",
       "3  C:\\Users\\quanh\\Desktop\\datasets\\06\\IMG\\right_2...       0.0       0.0   \n",
       "4  C:\\Users\\quanh\\Desktop\\datasets\\06\\IMG\\right_2...       0.0       0.0   \n",
       "5  C:\\Users\\quanh\\Desktop\\datasets\\06\\IMG\\right_2...       0.0       0.0   \n",
       "6  C:\\Users\\quanh\\Desktop\\datasets\\06\\IMG\\right_2...       0.0       0.0   \n",
       "7  C:\\Users\\quanh\\Desktop\\datasets\\06\\IMG\\right_2...       0.0       0.0   \n",
       "8  C:\\Users\\quanh\\Desktop\\datasets\\06\\IMG\\right_2...       0.0       0.0   \n",
       "9  C:\\Users\\quanh\\Desktop\\datasets\\06\\IMG\\right_2...       0.0       0.0   \n",
       "\n",
       "   break     speed  \n",
       "0      0  0.000008  \n",
       "1      0  0.000009  \n",
       "2      0  0.000010  \n",
       "3      0  0.000008  \n",
       "4      0  0.000008  \n",
       "5      0  0.000009  \n",
       "6      0  0.000009  \n",
       "7      0  0.000013  \n",
       "8      0  0.000002  \n",
       "9      0  0.000006  "
      ]
     },
     "execution_count": 70,
     "metadata": {},
     "output_type": "execute_result"
    }
   ],
   "source": [
    "df.head(10)"
   ]
  },
  {
   "cell_type": "code",
   "execution_count": 71,
   "metadata": {},
   "outputs": [
    {
     "data": {
      "text/plain": [
       "array([[<matplotlib.axes._subplots.AxesSubplot object at 0x0000017358A9A860>]], dtype=object)"
      ]
     },
     "execution_count": 71,
     "metadata": {},
     "output_type": "execute_result"
    },
    {
     "data": {
      "image/png": "[encoded data removed]",
      "text/plain": [
       "<matplotlib.figure.Figure at 0x1719874e400>"
      ]
     },
     "metadata": {},
     "output_type": "display_data"
    }
   ],
   "source": [
    "df.hist(column='steering', bins=20)"
   ]
  },
  {
   "cell_type": "code",
   "execution_count": 72,
   "metadata": {},
   "outputs": [],
   "source": [
    "df = df.drop(df.query('steering == 0').sample(frac=.95).index) # Drop 95% of 0 steering"
   ]
  },
  {
   "cell_type": "code",
   "execution_count": 73,
   "metadata": {},
   "outputs": [
    {
     "data": {
      "text/plain": [
       "array([[<matplotlib.axes._subplots.AxesSubplot object at 0x0000017356472C50>]], dtype=object)"
      ]
     },
     "execution_count": 73,
     "metadata": {},
     "output_type": "execute_result"
    },
    {
     "data": {
      "image/png": "[encoded data removed]",
      "text/plain": [
       "<matplotlib.figure.Figure at 0x17354505470>"
      ]
     },
     "metadata": {},
     "output_type": "display_data"
    }
   ],
   "source": [
    "df.hist(column='steering', bins=20)"
   ]
  },
  {
   "cell_type": "code",
   "execution_count": 74,
   "metadata": {},
   "outputs": [
    {
     "data": {
      "text/plain": [
       "center      1916\n",
       "left        1916\n",
       "right       1916\n",
       "steering    1916\n",
       "throttle    1916\n",
       "break       1916\n",
       "speed       1916\n",
       "dtype: int64"
      ]
     },
     "execution_count": 74,
     "metadata": {},
     "output_type": "execute_result"
    }
   ],
   "source": [
    "df.count()"
   ]
  },
  {
   "cell_type": "code",
   "execution_count": 250,
   "metadata": {},
   "outputs": [
    {
     "name": "stdout",
     "output_type": "stream",
     "text": [
      "1916\n",
      "1916\n",
      "C:\\Users\\quanh\\Desktop\\datasets\\06\\IMG\\center_2018_01_15_03_03_04_410.jpg\n",
      "0.009389671\n"
     ]
    }
   ],
   "source": [
    "train_data = df['center'].tolist()\n",
    "train_labels = df['steering'].tolist()\n",
    "print(len(train_data))\n",
    "print(len(train_labels))\n",
    "print(train_data[10])\n",
    "print(train_labels[10])"
   ]
  },
  {
   "cell_type": "code",
   "execution_count": 251,
   "metadata": {},
   "outputs": [],
   "source": [
    "IMAGE_SIZE=64"
   ]
  },
  {
   "cell_type": "code",
   "execution_count": 275,
   "metadata": {},
   "outputs": [],
   "source": [
    "def _parse_function(filename, label):\n",
    "    with tf.device('/cpu:0'):\n",
    "        image_string = tf.read_file(filename)\n",
    "        image_decoded = tf.image.decode_jpeg(image_string)\n",
    "    return image_decoded, label"
   ]
  },
  {
   "cell_type": "code",
   "execution_count": 276,
   "metadata": {},
   "outputs": [],
   "source": [
    "def _preprocessing(image,label, is_training):\n",
    "    with tf.device('/cpu:0'):\n",
    "        flip = tf.random_uniform([1], -1, 1)[0] > 0\n",
    "        image = tf.image.crop_to_bounding_box(image, 60, 0, 100, 320)\n",
    "        image = tf.cond(flip, lambda: tf.image.flip_left_right(image), lambda: image)\n",
    "        label = tf.cond(flip, lambda: -label, lambda: label)\n",
    "        image = tf.image.per_image_standardization(image)\n",
    "    return image, label"
   ]
  },
  {
   "cell_type": "code",
   "execution_count": 277,
   "metadata": {},
   "outputs": [],
   "source": [
    "def get_input_fn(list_data, list_labels, mode=tf.estimator.ModeKeys.TRAIN, batch_size=64):\n",
    "    def _input_fn():\n",
    "        \n",
    "        is_training = (mode == tf.estimator.ModeKeys.TRAIN)\n",
    "        dataset = tf.data.Dataset.from_tensor_slices((list_data, list_labels)) \n",
    "\n",
    "        dataset = dataset.shuffle(buffer_size= 2 * batch_size + 1)\n",
    "        \n",
    "        dataset = dataset.map(_parse_function, num_parallel_calls=4)\n",
    "        \n",
    "        dataset = dataset.map(lambda image, label: (_preprocessing(image, label, is_training)), num_parallel_calls=4)\n",
    "        \n",
    "        dataset = dataset.prefetch(batch_size * 2 + 1)\n",
    "        \n",
    "        dataset = dataset.repeat()\n",
    "        \n",
    "        dataset = dataset.batch(batch_size)\n",
    "        \n",
    "        iterator = dataset.make_one_shot_iterator()\n",
    "        \n",
    "        images, labels = iterator.get_next()\n",
    "        images = tf.image.resize_images(images, [IMAGE_SIZE, IMAGE_SIZE])\n",
    "        return images, labels\n",
    "        \n",
    "    return _input_fn"
   ]
  },
  {
   "cell_type": "code",
   "execution_count": 278,
   "metadata": {},
   "outputs": [],
   "source": [
    "train_input_fn = get_input_fn(train_data, train_labels)\n",
    "test_input_fn = get_input_fn(train_data, train_labels, tf.estimator.ModeKeys.EVAL)"
   ]
  },
  {
   "cell_type": "code",
   "execution_count": 279,
   "metadata": {},
   "outputs": [
    {
     "name": "stdout",
     "output_type": "stream",
     "text": [
      "images_batch size (64, 64, 64, 3)\n",
      "labels_batch size (64,)\n",
      "labels_batch[0] 0.220657\n"
     ]
    },
    {
     "data": {
      "image/png": "[encoded data removed]",
      "text/plain": [
       "<matplotlib.figure.Figure at 0x17390b3b5c0>"
      ]
     },
     "metadata": {},
     "output_type": "display_data"
    }
   ],
   "source": [
    "images, labels = train_input_fn()\n",
    "with tf.Session() as sess:\n",
    "    for i in range(1):\n",
    "        images_batch, labels_batch = sess.run([images, labels])\n",
    "        print(\"images_batch size\", images_batch.shape)\n",
    "        print(\"labels_batch size\", labels_batch.shape)\n",
    "        print(\"labels_batch[0]\", labels_batch[0])\n",
    "        plt.imshow(images_batch[0])\n",
    "        plt.show()"
   ]
  },
  {
   "cell_type": "code",
   "execution_count": 291,
   "metadata": {},
   "outputs": [],
   "source": [
    "def my_model_fn(features, labels, mode):\n",
    "    \"\"\"Model function for our CNN\"\"\"\n",
    "    \n",
    "    net = tf.reshape(features, [-1, IMAGE_SIZE, IMAGE_SIZE, 3])\n",
    "    \n",
    "    for _ in range(3):\n",
    "        net = tf.layers.conv2d(\n",
    "            inputs=net,\n",
    "            filters=32,\n",
    "            kernel_size=[5, 5],\n",
    "            padding=\"same\",\n",
    "            activation=tf.nn.relu\n",
    "        )\n",
    "        net = tf.layers.max_pooling2d(\n",
    "            inputs=net,\n",
    "            pool_size=[2, 2],\n",
    "            strides=[2,2]\n",
    "        )\n",
    "    for _ in range(2):\n",
    "        net = tf.layers.conv2d(\n",
    "            inputs=net,\n",
    "            filters=64,\n",
    "            kernel_size=[3, 3],\n",
    "            padding=\"same\",\n",
    "            activation=tf.nn.relu\n",
    "        )\n",
    "        net = tf.layers.max_pooling2d(\n",
    "            inputs=net,\n",
    "            pool_size=[2, 2],\n",
    "            strides=[2,2]\n",
    "        )        \n",
    "    net = tf.layers.flatten(net)\n",
    "    net = tf.layers.dense(inputs=net, units=1024)\n",
    "    net = tf.layers.dense(inputs=net, units=128)\n",
    "    net = tf.layers.dense(inputs=net, units=10)\n",
    "    logits = tf.layers.dense(inputs=net, units=1) # only steering angle\n",
    "    output = tf.squeeze(logits)\n",
    "    \n",
    "    if mode == tf.estimator.ModeKeys.PREDICT:\n",
    "        predictions = {\n",
    "            \"output\": output,\n",
    "        }\n",
    "        return tf.estimator.EstimatorSpec(mode=mode, predictions=predictions)\n",
    "    \n",
    "    loss = tf.losses.mean_squared_error(labels, output)\n",
    "    \n",
    "    optimizer = tf.train.AdamOptimizer()\n",
    "    train_op = optimizer.minimize(loss=loss, global_step=tf.train.get_global_step())\n",
    "    \n",
    "    eval_metric_ops = {\n",
    "        \"rmse\": tf.metrics.root_mean_squared_error(labels, output)\n",
    "    }\n",
    "    return tf.estimator.EstimatorSpec(\n",
    "        mode=mode, \n",
    "        loss=loss, \n",
    "        train_op=train_op,\n",
    "        eval_metric_ops=eval_metric_ops)"
   ]
  },
  {
   "cell_type": "code",
   "execution_count": 292,
   "metadata": {},
   "outputs": [
    {
     "name": "stdout",
     "output_type": "stream",
     "text": [
      "INFO:tensorflow:Using default config.\n",
      "INFO:tensorflow:Using config: {'_keep_checkpoint_every_n_hours': 10000, '_master': '', '_task_type': 'worker', '_num_ps_replicas': 0, '_model_dir': 'E:\\\\temp\\\\my_estimator', '_num_worker_replicas': 1, '_service': None, '_is_chief': True, '_task_id': 0, '_log_step_count_steps': 100, '_session_config': None, '_save_summary_steps': 100, '_keep_checkpoint_max': 5, '_save_checkpoints_secs': 600, '_cluster_spec': <tensorflow.python.training.server_lib.ClusterSpec object at 0x0000017397BB3E48>, '_save_checkpoints_steps': None, '_tf_random_seed': None}\n"
     ]
    }
   ],
   "source": [
    "my_estimator = tf.estimator.Estimator(\n",
    "    model_fn=my_model_fn,\n",
    "    model_dir=\"E:\\\\temp\\\\my_estimator\"\n",
    ")"
   ]
  },
  {
   "cell_type": "code",
   "execution_count": 282,
   "metadata": {},
   "outputs": [],
   "source": [
    "train_spec = tf.estimator.TrainSpec(\n",
    "    input_fn=train_input_fn,\n",
    "    max_steps=50000\n",
    ")\n",
    "\n",
    "test_spec = tf.estimator.EvalSpec(\n",
    "    input_fn=test_input_fn,\n",
    "    steps=50, throttle_secs=60\n",
    ")"
   ]
  },
  {
   "cell_type": "code",
   "execution_count": 283,
   "metadata": {},
   "outputs": [
    {
     "name": "stdout",
     "output_type": "stream",
     "text": [
      "INFO:tensorflow:Running training and evaluation locally (non-distributed).\n",
      "INFO:tensorflow:Start train and evaluate loop. The evaluate will happen after 60 secs (eval_spec.throttle_secs) or training is finished.\n",
      "INFO:tensorflow:Create CheckpointSaverHook.\n",
      "INFO:tensorflow:Restoring parameters from E:\\temp\\my_estimator\\model.ckpt-490\n",
      "INFO:tensorflow:Saving checkpoints for 491 into E:\\temp\\my_estimator\\model.ckpt.\n",
      "INFO:tensorflow:loss = 0.00801849, step = 491\n",
      "INFO:tensorflow:global_step/sec: 20.604\n",
      "INFO:tensorflow:loss = 0.0287097, step = 591 (4.856 sec)\n",
      "INFO:tensorflow:global_step/sec: 19.428\n",
      "INFO:tensorflow:loss = 0.026004, step = 691 (5.148 sec)\n",
      "INFO:tensorflow:global_step/sec: 18.9572\n",
      "INFO:tensorflow:loss = 0.0102358, step = 791 (5.275 sec)\n",
      "INFO:tensorflow:global_step/sec: 20.2753\n",
      "INFO:tensorflow:loss = 0.031559, step = 891 (4.930 sec)\n",
      "INFO:tensorflow:global_step/sec: 20.4814\n",
      "INFO:tensorflow:loss = 0.0179861, step = 991 (4.884 sec)\n",
      "INFO:tensorflow:global_step/sec: 20.3103\n",
      "INFO:tensorflow:loss = 0.0127403, step = 1091 (4.924 sec)\n",
      "INFO:tensorflow:global_step/sec: 20.7844\n",
      "INFO:tensorflow:loss = 0.0123934, step = 1191 (4.812 sec)\n",
      "INFO:tensorflow:global_step/sec: 20.2013\n",
      "INFO:tensorflow:loss = 0.0141692, step = 1291 (4.951 sec)\n",
      "INFO:tensorflow:global_step/sec: 20.1849\n",
      "INFO:tensorflow:loss = 0.0158159, step = 1391 (4.952 sec)\n",
      "INFO:tensorflow:global_step/sec: 20.2198\n",
      "INFO:tensorflow:loss = 0.0107463, step = 1491 (4.946 sec)\n",
      "INFO:tensorflow:global_step/sec: 20.23\n",
      "INFO:tensorflow:loss = 0.00754866, step = 1591 (4.943 sec)\n",
      "INFO:tensorflow:Saving checkpoints for 1613 into E:\\temp\\my_estimator\\model.ckpt.\n",
      "INFO:tensorflow:Loss for final step: 0.0148292.\n",
      "INFO:tensorflow:Starting evaluation at 2018-01-14-23:29:57\n",
      "INFO:tensorflow:Restoring parameters from E:\\temp\\my_estimator\\model.ckpt-1613\n",
      "INFO:tensorflow:Evaluation [1/50]\n",
      "INFO:tensorflow:Evaluation [2/50]\n",
      "INFO:tensorflow:Evaluation [3/50]\n",
      "INFO:tensorflow:Evaluation [4/50]\n",
      "INFO:tensorflow:Evaluation [5/50]\n",
      "INFO:tensorflow:Evaluation [6/50]\n",
      "INFO:tensorflow:Evaluation [7/50]\n",
      "INFO:tensorflow:Evaluation [8/50]\n",
      "INFO:tensorflow:Evaluation [9/50]\n",
      "INFO:tensorflow:Evaluation [10/50]\n",
      "INFO:tensorflow:Evaluation [11/50]\n",
      "INFO:tensorflow:Evaluation [12/50]\n",
      "INFO:tensorflow:Evaluation [13/50]\n",
      "INFO:tensorflow:Evaluation [14/50]\n",
      "INFO:tensorflow:Evaluation [15/50]\n",
      "INFO:tensorflow:Evaluation [16/50]\n",
      "INFO:tensorflow:Evaluation [17/50]\n",
      "INFO:tensorflow:Evaluation [18/50]\n",
      "INFO:tensorflow:Evaluation [19/50]\n",
      "INFO:tensorflow:Evaluation [20/50]\n",
      "INFO:tensorflow:Evaluation [21/50]\n",
      "INFO:tensorflow:Evaluation [22/50]\n",
      "INFO:tensorflow:Evaluation [23/50]\n",
      "INFO:tensorflow:Evaluation [24/50]\n",
      "INFO:tensorflow:Evaluation [25/50]\n",
      "INFO:tensorflow:Evaluation [26/50]\n",
      "INFO:tensorflow:Evaluation [27/50]\n",
      "INFO:tensorflow:Evaluation [28/50]\n",
      "INFO:tensorflow:Evaluation [29/50]\n",
      "INFO:tensorflow:Evaluation [30/50]\n",
      "INFO:tensorflow:Evaluation [31/50]\n",
      "INFO:tensorflow:Evaluation [32/50]\n",
      "INFO:tensorflow:Evaluation [33/50]\n",
      "INFO:tensorflow:Evaluation [34/50]\n",
      "INFO:tensorflow:Evaluation [35/50]\n",
      "INFO:tensorflow:Evaluation [36/50]\n",
      "INFO:tensorflow:Evaluation [37/50]\n",
      "INFO:tensorflow:Evaluation [38/50]\n",
      "INFO:tensorflow:Evaluation [39/50]\n",
      "INFO:tensorflow:Evaluation [40/50]\n",
      "INFO:tensorflow:Evaluation [41/50]\n",
      "INFO:tensorflow:Evaluation [42/50]\n",
      "INFO:tensorflow:Evaluation [43/50]\n",
      "INFO:tensorflow:Evaluation [44/50]\n",
      "INFO:tensorflow:Evaluation [45/50]\n",
      "INFO:tensorflow:Evaluation [46/50]\n",
      "INFO:tensorflow:Evaluation [47/50]\n",
      "INFO:tensorflow:Evaluation [48/50]\n",
      "INFO:tensorflow:Evaluation [49/50]\n",
      "INFO:tensorflow:Evaluation [50/50]\n",
      "INFO:tensorflow:Finished evaluation at 2018-01-14-23:30:01\n",
      "INFO:tensorflow:Saving dict for global step 1613: global_step = 1613, loss = 0.0135125, rmse = 0.116243\n",
      "INFO:tensorflow:Create CheckpointSaverHook.\n",
      "INFO:tensorflow:Restoring parameters from E:\\temp\\my_estimator\\model.ckpt-1613\n",
      "INFO:tensorflow:Saving checkpoints for 1614 into E:\\temp\\my_estimator\\model.ckpt.\n",
      "INFO:tensorflow:loss = 0.00800041, step = 1614\n",
      "INFO:tensorflow:global_step/sec: 20.3661\n",
      "INFO:tensorflow:loss = 0.0103823, step = 1714 (4.913 sec)\n",
      "INFO:tensorflow:global_step/sec: 20.7584\n",
      "INFO:tensorflow:loss = 0.00882239, step = 1814 (4.858 sec)\n",
      "INFO:tensorflow:global_step/sec: 20.5827\n",
      "INFO:tensorflow:loss = 0.0050333, step = 1914 (4.822 sec)\n",
      "INFO:tensorflow:global_step/sec: 19.7826\n",
      "INFO:tensorflow:loss = 0.00867501, step = 2014 (5.051 sec)\n",
      "INFO:tensorflow:global_step/sec: 19.8042\n",
      "INFO:tensorflow:loss = 0.00609905, step = 2114 (5.052 sec)\n",
      "INFO:tensorflow:global_step/sec: 20.3372\n",
      "INFO:tensorflow:loss = 0.00486676, step = 2214 (4.914 sec)\n",
      "INFO:tensorflow:global_step/sec: 20.7714\n",
      "INFO:tensorflow:loss = 0.0107066, step = 2314 (4.813 sec)\n",
      "INFO:tensorflow:global_step/sec: 19.903\n",
      "INFO:tensorflow:loss = 0.00791346, step = 2414 (5.023 sec)\n",
      "INFO:tensorflow:global_step/sec: 20.6446\n",
      "INFO:tensorflow:loss = 0.00665823, step = 2514 (4.845 sec)\n",
      "INFO:tensorflow:global_step/sec: 19.5652\n",
      "INFO:tensorflow:loss = 0.00686761, step = 2614 (5.110 sec)\n",
      "INFO:tensorflow:global_step/sec: 20.3331\n",
      "INFO:tensorflow:loss = 0.00610553, step = 2714 (4.921 sec)\n",
      "INFO:tensorflow:Saving checkpoints for 2739 into E:\\temp\\my_estimator\\model.ckpt.\n",
      "INFO:tensorflow:Loss for final step: 0.00540566.\n",
      "INFO:tensorflow:Starting evaluation at 2018-01-14-23:31:04\n",
      "INFO:tensorflow:Restoring parameters from E:\\temp\\my_estimator\\model.ckpt-2739\n",
      "INFO:tensorflow:Evaluation [1/50]\n",
      "INFO:tensorflow:Evaluation [2/50]\n",
      "INFO:tensorflow:Evaluation [3/50]\n",
      "INFO:tensorflow:Evaluation [4/50]\n",
      "INFO:tensorflow:Evaluation [5/50]\n",
      "INFO:tensorflow:Evaluation [6/50]\n",
      "INFO:tensorflow:Evaluation [7/50]\n",
      "INFO:tensorflow:Evaluation [8/50]\n",
      "INFO:tensorflow:Evaluation [9/50]\n",
      "INFO:tensorflow:Evaluation [10/50]\n",
      "INFO:tensorflow:Evaluation [11/50]\n",
      "INFO:tensorflow:Evaluation [12/50]\n",
      "INFO:tensorflow:Evaluation [13/50]\n",
      "INFO:tensorflow:Evaluation [14/50]\n",
      "INFO:tensorflow:Evaluation [15/50]\n",
      "INFO:tensorflow:Evaluation [16/50]\n",
      "INFO:tensorflow:Evaluation [17/50]\n",
      "INFO:tensorflow:Evaluation [18/50]\n",
      "INFO:tensorflow:Evaluation [19/50]\n",
      "INFO:tensorflow:Evaluation [20/50]\n",
      "INFO:tensorflow:Evaluation [21/50]\n",
      "INFO:tensorflow:Evaluation [22/50]\n",
      "INFO:tensorflow:Evaluation [23/50]\n",
      "INFO:tensorflow:Evaluation [24/50]\n",
      "INFO:tensorflow:Evaluation [25/50]\n",
      "INFO:tensorflow:Evaluation [26/50]\n",
      "INFO:tensorflow:Evaluation [27/50]\n",
      "INFO:tensorflow:Evaluation [28/50]\n",
      "INFO:tensorflow:Evaluation [29/50]\n",
      "INFO:tensorflow:Evaluation [30/50]\n",
      "INFO:tensorflow:Evaluation [31/50]\n",
      "INFO:tensorflow:Evaluation [32/50]\n",
      "INFO:tensorflow:Evaluation [33/50]\n",
      "INFO:tensorflow:Evaluation [34/50]\n",
      "INFO:tensorflow:Evaluation [35/50]\n",
      "INFO:tensorflow:Evaluation [36/50]\n",
      "INFO:tensorflow:Evaluation [37/50]\n",
      "INFO:tensorflow:Evaluation [38/50]\n",
      "INFO:tensorflow:Evaluation [39/50]\n",
      "INFO:tensorflow:Evaluation [40/50]\n",
      "INFO:tensorflow:Evaluation [41/50]\n",
      "INFO:tensorflow:Evaluation [42/50]\n",
      "INFO:tensorflow:Evaluation [43/50]\n",
      "INFO:tensorflow:Evaluation [44/50]\n",
      "INFO:tensorflow:Evaluation [45/50]\n",
      "INFO:tensorflow:Evaluation [46/50]\n",
      "INFO:tensorflow:Evaluation [47/50]\n",
      "INFO:tensorflow:Evaluation [48/50]\n",
      "INFO:tensorflow:Evaluation [49/50]\n",
      "INFO:tensorflow:Evaluation [50/50]\n",
      "INFO:tensorflow:Finished evaluation at 2018-01-14-23:31:08\n",
      "INFO:tensorflow:Saving dict for global step 2739: global_step = 2739, loss = 0.00613486, rmse = 0.0783254\n",
      "INFO:tensorflow:Create CheckpointSaverHook.\n",
      "INFO:tensorflow:Restoring parameters from E:\\temp\\my_estimator\\model.ckpt-2739\n",
      "INFO:tensorflow:Saving checkpoints for 2740 into E:\\temp\\my_estimator\\model.ckpt.\n",
      "INFO:tensorflow:loss = 0.00514263, step = 2740\n",
      "INFO:tensorflow:global_step/sec: 20.5552\n",
      "INFO:tensorflow:loss = 0.00686843, step = 2840 (4.867 sec)\n",
      "INFO:tensorflow:global_step/sec: 20.6617\n",
      "INFO:tensorflow:loss = 0.00728545, step = 2940 (4.840 sec)\n"
     ]
    },
    {
     "ename": "KeyboardInterrupt",
     "evalue": "",
     "output_type": "error",
     "traceback": [
      "\u001b[1;31m---------------------------------------------------------------------------\u001b[0m",
      "\u001b[1;31mKeyboardInterrupt\u001b[0m                         Traceback (most recent call last)",
      "\u001b[1;32m<ipython-input-283-3b181bf9b371>\u001b[0m in \u001b[0;36m<module>\u001b[1;34m()\u001b[0m\n\u001b[1;32m----> 1\u001b[1;33m \u001b[0mtf\u001b[0m\u001b[1;33m.\u001b[0m\u001b[0mestimator\u001b[0m\u001b[1;33m.\u001b[0m\u001b[0mtrain_and_evaluate\u001b[0m\u001b[1;33m(\u001b[0m\u001b[0mmy_estimator\u001b[0m\u001b[1;33m,\u001b[0m \u001b[0mtrain_spec\u001b[0m\u001b[1;33m,\u001b[0m \u001b[0mtest_spec\u001b[0m\u001b[1;33m)\u001b[0m\u001b[1;33m\u001b[0m\u001b[0m\n\u001b[0m",
      "\u001b[1;32mE:\\Miniconda3\\envs\\env3-gpu\\lib\\site-packages\\tensorflow\\python\\estimator\\training.py\u001b[0m in \u001b[0;36mtrain_and_evaluate\u001b[1;34m(estimator, train_spec, eval_spec)\u001b[0m\n\u001b[0;32m    428\u001b[0m       config.task_type != run_config_lib.TaskType.EVALUATOR):\n\u001b[0;32m    429\u001b[0m     \u001b[0mlogging\u001b[0m\u001b[1;33m.\u001b[0m\u001b[0minfo\u001b[0m\u001b[1;33m(\u001b[0m\u001b[1;34m'Running training and evaluation locally (non-distributed).'\u001b[0m\u001b[1;33m)\u001b[0m\u001b[1;33m\u001b[0m\u001b[0m\n\u001b[1;32m--> 430\u001b[1;33m     \u001b[0mexecutor\u001b[0m\u001b[1;33m.\u001b[0m\u001b[0mrun_local\u001b[0m\u001b[1;33m(\u001b[0m\u001b[1;33m)\u001b[0m\u001b[1;33m\u001b[0m\u001b[0m\n\u001b[0m\u001b[0;32m    431\u001b[0m     \u001b[1;32mreturn\u001b[0m\u001b[1;33m\u001b[0m\u001b[0m\n\u001b[0;32m    432\u001b[0m \u001b[1;33m\u001b[0m\u001b[0m\n",
      "\u001b[1;32mE:\\Miniconda3\\envs\\env3-gpu\\lib\\site-packages\\tensorflow\\python\\estimator\\training.py\u001b[0m in \u001b[0;36mrun_local\u001b[1;34m(self)\u001b[0m\n\u001b[0;32m    607\u001b[0m           \u001b[0minput_fn\u001b[0m\u001b[1;33m=\u001b[0m\u001b[0mself\u001b[0m\u001b[1;33m.\u001b[0m\u001b[0m_train_spec\u001b[0m\u001b[1;33m.\u001b[0m\u001b[0minput_fn\u001b[0m\u001b[1;33m,\u001b[0m\u001b[1;33m\u001b[0m\u001b[0m\n\u001b[0;32m    608\u001b[0m           \u001b[0mmax_steps\u001b[0m\u001b[1;33m=\u001b[0m\u001b[0mself\u001b[0m\u001b[1;33m.\u001b[0m\u001b[0m_train_spec\u001b[0m\u001b[1;33m.\u001b[0m\u001b[0mmax_steps\u001b[0m\u001b[1;33m,\u001b[0m\u001b[1;33m\u001b[0m\u001b[0m\n\u001b[1;32m--> 609\u001b[1;33m           hooks=train_hooks)\n\u001b[0m\u001b[0;32m    610\u001b[0m \u001b[1;33m\u001b[0m\u001b[0m\n\u001b[0;32m    611\u001b[0m       \u001b[1;31m# Final export signal: For any eval result with global_step >= train\u001b[0m\u001b[1;33m\u001b[0m\u001b[1;33m\u001b[0m\u001b[0m\n",
      "\u001b[1;32mE:\\Miniconda3\\envs\\env3-gpu\\lib\\site-packages\\tensorflow\\python\\estimator\\estimator.py\u001b[0m in \u001b[0;36mtrain\u001b[1;34m(self, input_fn, hooks, steps, max_steps, saving_listeners)\u001b[0m\n\u001b[0;32m    300\u001b[0m \u001b[1;33m\u001b[0m\u001b[0m\n\u001b[0;32m    301\u001b[0m     \u001b[0msaving_listeners\u001b[0m \u001b[1;33m=\u001b[0m \u001b[0m_check_listeners_type\u001b[0m\u001b[1;33m(\u001b[0m\u001b[0msaving_listeners\u001b[0m\u001b[1;33m)\u001b[0m\u001b[1;33m\u001b[0m\u001b[0m\n\u001b[1;32m--> 302\u001b[1;33m     \u001b[0mloss\u001b[0m \u001b[1;33m=\u001b[0m \u001b[0mself\u001b[0m\u001b[1;33m.\u001b[0m\u001b[0m_train_model\u001b[0m\u001b[1;33m(\u001b[0m\u001b[0minput_fn\u001b[0m\u001b[1;33m,\u001b[0m \u001b[0mhooks\u001b[0m\u001b[1;33m,\u001b[0m \u001b[0msaving_listeners\u001b[0m\u001b[1;33m)\u001b[0m\u001b[1;33m\u001b[0m\u001b[0m\n\u001b[0m\u001b[0;32m    303\u001b[0m     \u001b[0mlogging\u001b[0m\u001b[1;33m.\u001b[0m\u001b[0minfo\u001b[0m\u001b[1;33m(\u001b[0m\u001b[1;34m'Loss for final step: %s.'\u001b[0m\u001b[1;33m,\u001b[0m \u001b[0mloss\u001b[0m\u001b[1;33m)\u001b[0m\u001b[1;33m\u001b[0m\u001b[0m\n\u001b[0;32m    304\u001b[0m     \u001b[1;32mreturn\u001b[0m \u001b[0mself\u001b[0m\u001b[1;33m\u001b[0m\u001b[0m\n",
      "\u001b[1;32mE:\\Miniconda3\\envs\\env3-gpu\\lib\\site-packages\\tensorflow\\python\\estimator\\estimator.py\u001b[0m in \u001b[0;36m_train_model\u001b[1;34m(self, input_fn, hooks, saving_listeners)\u001b[0m\n\u001b[0;32m    781\u001b[0m         \u001b[0mloss\u001b[0m \u001b[1;33m=\u001b[0m \u001b[1;32mNone\u001b[0m\u001b[1;33m\u001b[0m\u001b[0m\n\u001b[0;32m    782\u001b[0m         \u001b[1;32mwhile\u001b[0m \u001b[1;32mnot\u001b[0m \u001b[0mmon_sess\u001b[0m\u001b[1;33m.\u001b[0m\u001b[0mshould_stop\u001b[0m\u001b[1;33m(\u001b[0m\u001b[1;33m)\u001b[0m\u001b[1;33m:\u001b[0m\u001b[1;33m\u001b[0m\u001b[0m\n\u001b[1;32m--> 783\u001b[1;33m           \u001b[0m_\u001b[0m\u001b[1;33m,\u001b[0m \u001b[0mloss\u001b[0m \u001b[1;33m=\u001b[0m \u001b[0mmon_sess\u001b[0m\u001b[1;33m.\u001b[0m\u001b[0mrun\u001b[0m\u001b[1;33m(\u001b[0m\u001b[1;33m[\u001b[0m\u001b[0mestimator_spec\u001b[0m\u001b[1;33m.\u001b[0m\u001b[0mtrain_op\u001b[0m\u001b[1;33m,\u001b[0m \u001b[0mestimator_spec\u001b[0m\u001b[1;33m.\u001b[0m\u001b[0mloss\u001b[0m\u001b[1;33m]\u001b[0m\u001b[1;33m)\u001b[0m\u001b[1;33m\u001b[0m\u001b[0m\n\u001b[0m\u001b[0;32m    784\u001b[0m       \u001b[1;32mreturn\u001b[0m \u001b[0mloss\u001b[0m\u001b[1;33m\u001b[0m\u001b[0m\n\u001b[0;32m    785\u001b[0m \u001b[1;33m\u001b[0m\u001b[0m\n",
      "\u001b[1;32mE:\\Miniconda3\\envs\\env3-gpu\\lib\\site-packages\\tensorflow\\python\\training\\monitored_session.py\u001b[0m in \u001b[0;36mrun\u001b[1;34m(self, fetches, feed_dict, options, run_metadata)\u001b[0m\n\u001b[0;32m    519\u001b[0m                           \u001b[0mfeed_dict\u001b[0m\u001b[1;33m=\u001b[0m\u001b[0mfeed_dict\u001b[0m\u001b[1;33m,\u001b[0m\u001b[1;33m\u001b[0m\u001b[0m\n\u001b[0;32m    520\u001b[0m                           \u001b[0moptions\u001b[0m\u001b[1;33m=\u001b[0m\u001b[0moptions\u001b[0m\u001b[1;33m,\u001b[0m\u001b[1;33m\u001b[0m\u001b[0m\n\u001b[1;32m--> 521\u001b[1;33m                           run_metadata=run_metadata)\n\u001b[0m\u001b[0;32m    522\u001b[0m \u001b[1;33m\u001b[0m\u001b[0m\n\u001b[0;32m    523\u001b[0m   \u001b[1;32mdef\u001b[0m \u001b[0mshould_stop\u001b[0m\u001b[1;33m(\u001b[0m\u001b[0mself\u001b[0m\u001b[1;33m)\u001b[0m\u001b[1;33m:\u001b[0m\u001b[1;33m\u001b[0m\u001b[0m\n",
      "\u001b[1;32mE:\\Miniconda3\\envs\\env3-gpu\\lib\\site-packages\\tensorflow\\python\\training\\monitored_session.py\u001b[0m in \u001b[0;36mrun\u001b[1;34m(self, fetches, feed_dict, options, run_metadata)\u001b[0m\n\u001b[0;32m    890\u001b[0m                               \u001b[0mfeed_dict\u001b[0m\u001b[1;33m=\u001b[0m\u001b[0mfeed_dict\u001b[0m\u001b[1;33m,\u001b[0m\u001b[1;33m\u001b[0m\u001b[0m\n\u001b[0;32m    891\u001b[0m                               \u001b[0moptions\u001b[0m\u001b[1;33m=\u001b[0m\u001b[0moptions\u001b[0m\u001b[1;33m,\u001b[0m\u001b[1;33m\u001b[0m\u001b[0m\n\u001b[1;32m--> 892\u001b[1;33m                               run_metadata=run_metadata)\n\u001b[0m\u001b[0;32m    893\u001b[0m       \u001b[1;32mexcept\u001b[0m \u001b[0m_PREEMPTION_ERRORS\u001b[0m \u001b[1;32mas\u001b[0m \u001b[0me\u001b[0m\u001b[1;33m:\u001b[0m\u001b[1;33m\u001b[0m\u001b[0m\n\u001b[0;32m    894\u001b[0m         logging.info('An error was raised. This may be due to a preemption in '\n",
      "\u001b[1;32mE:\\Miniconda3\\envs\\env3-gpu\\lib\\site-packages\\tensorflow\\python\\training\\monitored_session.py\u001b[0m in \u001b[0;36mrun\u001b[1;34m(self, *args, **kwargs)\u001b[0m\n\u001b[0;32m    950\u001b[0m   \u001b[1;32mdef\u001b[0m \u001b[0mrun\u001b[0m\u001b[1;33m(\u001b[0m\u001b[0mself\u001b[0m\u001b[1;33m,\u001b[0m \u001b[1;33m*\u001b[0m\u001b[0margs\u001b[0m\u001b[1;33m,\u001b[0m \u001b[1;33m**\u001b[0m\u001b[0mkwargs\u001b[0m\u001b[1;33m)\u001b[0m\u001b[1;33m:\u001b[0m\u001b[1;33m\u001b[0m\u001b[0m\n\u001b[0;32m    951\u001b[0m     \u001b[1;32mtry\u001b[0m\u001b[1;33m:\u001b[0m\u001b[1;33m\u001b[0m\u001b[0m\n\u001b[1;32m--> 952\u001b[1;33m       \u001b[1;32mreturn\u001b[0m \u001b[0mself\u001b[0m\u001b[1;33m.\u001b[0m\u001b[0m_sess\u001b[0m\u001b[1;33m.\u001b[0m\u001b[0mrun\u001b[0m\u001b[1;33m(\u001b[0m\u001b[1;33m*\u001b[0m\u001b[0margs\u001b[0m\u001b[1;33m,\u001b[0m \u001b[1;33m**\u001b[0m\u001b[0mkwargs\u001b[0m\u001b[1;33m)\u001b[0m\u001b[1;33m\u001b[0m\u001b[0m\n\u001b[0m\u001b[0;32m    953\u001b[0m     \u001b[1;32mexcept\u001b[0m \u001b[0m_PREEMPTION_ERRORS\u001b[0m\u001b[1;33m:\u001b[0m\u001b[1;33m\u001b[0m\u001b[0m\n\u001b[0;32m    954\u001b[0m       \u001b[1;32mraise\u001b[0m\u001b[1;33m\u001b[0m\u001b[0m\n",
      "\u001b[1;32mE:\\Miniconda3\\envs\\env3-gpu\\lib\\site-packages\\tensorflow\\python\\training\\monitored_session.py\u001b[0m in \u001b[0;36mrun\u001b[1;34m(self, fetches, feed_dict, options, run_metadata)\u001b[0m\n\u001b[0;32m   1022\u001b[0m                                   \u001b[0mfeed_dict\u001b[0m\u001b[1;33m=\u001b[0m\u001b[0mfeed_dict\u001b[0m\u001b[1;33m,\u001b[0m\u001b[1;33m\u001b[0m\u001b[0m\n\u001b[0;32m   1023\u001b[0m                                   \u001b[0moptions\u001b[0m\u001b[1;33m=\u001b[0m\u001b[0moptions\u001b[0m\u001b[1;33m,\u001b[0m\u001b[1;33m\u001b[0m\u001b[0m\n\u001b[1;32m-> 1024\u001b[1;33m                                   run_metadata=run_metadata)\n\u001b[0m\u001b[0;32m   1025\u001b[0m \u001b[1;33m\u001b[0m\u001b[0m\n\u001b[0;32m   1026\u001b[0m     \u001b[1;32mfor\u001b[0m \u001b[0mhook\u001b[0m \u001b[1;32min\u001b[0m \u001b[0mself\u001b[0m\u001b[1;33m.\u001b[0m\u001b[0m_hooks\u001b[0m\u001b[1;33m:\u001b[0m\u001b[1;33m\u001b[0m\u001b[0m\n",
      "\u001b[1;32mE:\\Miniconda3\\envs\\env3-gpu\\lib\\site-packages\\tensorflow\\python\\training\\monitored_session.py\u001b[0m in \u001b[0;36mrun\u001b[1;34m(self, *args, **kwargs)\u001b[0m\n\u001b[0;32m    825\u001b[0m \u001b[1;33m\u001b[0m\u001b[0m\n\u001b[0;32m    826\u001b[0m   \u001b[1;32mdef\u001b[0m \u001b[0mrun\u001b[0m\u001b[1;33m(\u001b[0m\u001b[0mself\u001b[0m\u001b[1;33m,\u001b[0m \u001b[1;33m*\u001b[0m\u001b[0margs\u001b[0m\u001b[1;33m,\u001b[0m \u001b[1;33m**\u001b[0m\u001b[0mkwargs\u001b[0m\u001b[1;33m)\u001b[0m\u001b[1;33m:\u001b[0m\u001b[1;33m\u001b[0m\u001b[0m\n\u001b[1;32m--> 827\u001b[1;33m     \u001b[1;32mreturn\u001b[0m \u001b[0mself\u001b[0m\u001b[1;33m.\u001b[0m\u001b[0m_sess\u001b[0m\u001b[1;33m.\u001b[0m\u001b[0mrun\u001b[0m\u001b[1;33m(\u001b[0m\u001b[1;33m*\u001b[0m\u001b[0margs\u001b[0m\u001b[1;33m,\u001b[0m \u001b[1;33m**\u001b[0m\u001b[0mkwargs\u001b[0m\u001b[1;33m)\u001b[0m\u001b[1;33m\u001b[0m\u001b[0m\n\u001b[0m\u001b[0;32m    828\u001b[0m \u001b[1;33m\u001b[0m\u001b[0m\n\u001b[0;32m    829\u001b[0m \u001b[1;33m\u001b[0m\u001b[0m\n",
      "\u001b[1;32mE:\\Miniconda3\\envs\\env3-gpu\\lib\\site-packages\\tensorflow\\python\\client\\session.py\u001b[0m in \u001b[0;36mrun\u001b[1;34m(self, fetches, feed_dict, options, run_metadata)\u001b[0m\n\u001b[0;32m    887\u001b[0m     \u001b[1;32mtry\u001b[0m\u001b[1;33m:\u001b[0m\u001b[1;33m\u001b[0m\u001b[0m\n\u001b[0;32m    888\u001b[0m       result = self._run(None, fetches, feed_dict, options_ptr,\n\u001b[1;32m--> 889\u001b[1;33m                          run_metadata_ptr)\n\u001b[0m\u001b[0;32m    890\u001b[0m       \u001b[1;32mif\u001b[0m \u001b[0mrun_metadata\u001b[0m\u001b[1;33m:\u001b[0m\u001b[1;33m\u001b[0m\u001b[0m\n\u001b[0;32m    891\u001b[0m         \u001b[0mproto_data\u001b[0m \u001b[1;33m=\u001b[0m \u001b[0mtf_session\u001b[0m\u001b[1;33m.\u001b[0m\u001b[0mTF_GetBuffer\u001b[0m\u001b[1;33m(\u001b[0m\u001b[0mrun_metadata_ptr\u001b[0m\u001b[1;33m)\u001b[0m\u001b[1;33m\u001b[0m\u001b[0m\n",
      "\u001b[1;32mE:\\Miniconda3\\envs\\env3-gpu\\lib\\site-packages\\tensorflow\\python\\client\\session.py\u001b[0m in \u001b[0;36m_run\u001b[1;34m(self, handle, fetches, feed_dict, options, run_metadata)\u001b[0m\n\u001b[0;32m   1118\u001b[0m     \u001b[1;32mif\u001b[0m \u001b[0mfinal_fetches\u001b[0m \u001b[1;32mor\u001b[0m \u001b[0mfinal_targets\u001b[0m \u001b[1;32mor\u001b[0m \u001b[1;33m(\u001b[0m\u001b[0mhandle\u001b[0m \u001b[1;32mand\u001b[0m \u001b[0mfeed_dict_tensor\u001b[0m\u001b[1;33m)\u001b[0m\u001b[1;33m:\u001b[0m\u001b[1;33m\u001b[0m\u001b[0m\n\u001b[0;32m   1119\u001b[0m       results = self._do_run(handle, final_targets, final_fetches,\n\u001b[1;32m-> 1120\u001b[1;33m                              feed_dict_tensor, options, run_metadata)\n\u001b[0m\u001b[0;32m   1121\u001b[0m     \u001b[1;32melse\u001b[0m\u001b[1;33m:\u001b[0m\u001b[1;33m\u001b[0m\u001b[0m\n\u001b[0;32m   1122\u001b[0m       \u001b[0mresults\u001b[0m \u001b[1;33m=\u001b[0m \u001b[1;33m[\u001b[0m\u001b[1;33m]\u001b[0m\u001b[1;33m\u001b[0m\u001b[0m\n",
      "\u001b[1;32mE:\\Miniconda3\\envs\\env3-gpu\\lib\\site-packages\\tensorflow\\python\\client\\session.py\u001b[0m in \u001b[0;36m_do_run\u001b[1;34m(self, handle, target_list, fetch_list, feed_dict, options, run_metadata)\u001b[0m\n\u001b[0;32m   1315\u001b[0m     \u001b[1;32mif\u001b[0m \u001b[0mhandle\u001b[0m \u001b[1;32mis\u001b[0m \u001b[1;32mNone\u001b[0m\u001b[1;33m:\u001b[0m\u001b[1;33m\u001b[0m\u001b[0m\n\u001b[0;32m   1316\u001b[0m       return self._do_call(_run_fn, self._session, feeds, fetches, targets,\n\u001b[1;32m-> 1317\u001b[1;33m                            options, run_metadata)\n\u001b[0m\u001b[0;32m   1318\u001b[0m     \u001b[1;32melse\u001b[0m\u001b[1;33m:\u001b[0m\u001b[1;33m\u001b[0m\u001b[0m\n\u001b[0;32m   1319\u001b[0m       \u001b[1;32mreturn\u001b[0m \u001b[0mself\u001b[0m\u001b[1;33m.\u001b[0m\u001b[0m_do_call\u001b[0m\u001b[1;33m(\u001b[0m\u001b[0m_prun_fn\u001b[0m\u001b[1;33m,\u001b[0m \u001b[0mself\u001b[0m\u001b[1;33m.\u001b[0m\u001b[0m_session\u001b[0m\u001b[1;33m,\u001b[0m \u001b[0mhandle\u001b[0m\u001b[1;33m,\u001b[0m \u001b[0mfeeds\u001b[0m\u001b[1;33m,\u001b[0m \u001b[0mfetches\u001b[0m\u001b[1;33m)\u001b[0m\u001b[1;33m\u001b[0m\u001b[0m\n",
      "\u001b[1;32mE:\\Miniconda3\\envs\\env3-gpu\\lib\\site-packages\\tensorflow\\python\\client\\session.py\u001b[0m in \u001b[0;36m_do_call\u001b[1;34m(self, fn, *args)\u001b[0m\n\u001b[0;32m   1321\u001b[0m   \u001b[1;32mdef\u001b[0m \u001b[0m_do_call\u001b[0m\u001b[1;33m(\u001b[0m\u001b[0mself\u001b[0m\u001b[1;33m,\u001b[0m \u001b[0mfn\u001b[0m\u001b[1;33m,\u001b[0m \u001b[1;33m*\u001b[0m\u001b[0margs\u001b[0m\u001b[1;33m)\u001b[0m\u001b[1;33m:\u001b[0m\u001b[1;33m\u001b[0m\u001b[0m\n\u001b[0;32m   1322\u001b[0m     \u001b[1;32mtry\u001b[0m\u001b[1;33m:\u001b[0m\u001b[1;33m\u001b[0m\u001b[0m\n\u001b[1;32m-> 1323\u001b[1;33m       \u001b[1;32mreturn\u001b[0m \u001b[0mfn\u001b[0m\u001b[1;33m(\u001b[0m\u001b[1;33m*\u001b[0m\u001b[0margs\u001b[0m\u001b[1;33m)\u001b[0m\u001b[1;33m\u001b[0m\u001b[0m\n\u001b[0m\u001b[0;32m   1324\u001b[0m     \u001b[1;32mexcept\u001b[0m \u001b[0merrors\u001b[0m\u001b[1;33m.\u001b[0m\u001b[0mOpError\u001b[0m \u001b[1;32mas\u001b[0m \u001b[0me\u001b[0m\u001b[1;33m:\u001b[0m\u001b[1;33m\u001b[0m\u001b[0m\n\u001b[0;32m   1325\u001b[0m       \u001b[0mmessage\u001b[0m \u001b[1;33m=\u001b[0m \u001b[0mcompat\u001b[0m\u001b[1;33m.\u001b[0m\u001b[0mas_text\u001b[0m\u001b[1;33m(\u001b[0m\u001b[0me\u001b[0m\u001b[1;33m.\u001b[0m\u001b[0mmessage\u001b[0m\u001b[1;33m)\u001b[0m\u001b[1;33m\u001b[0m\u001b[0m\n",
      "\u001b[1;32mE:\\Miniconda3\\envs\\env3-gpu\\lib\\site-packages\\tensorflow\\python\\client\\session.py\u001b[0m in \u001b[0;36m_run_fn\u001b[1;34m(session, feed_dict, fetch_list, target_list, options, run_metadata)\u001b[0m\n\u001b[0;32m   1300\u001b[0m           return tf_session.TF_Run(session, options,\n\u001b[0;32m   1301\u001b[0m                                    \u001b[0mfeed_dict\u001b[0m\u001b[1;33m,\u001b[0m \u001b[0mfetch_list\u001b[0m\u001b[1;33m,\u001b[0m \u001b[0mtarget_list\u001b[0m\u001b[1;33m,\u001b[0m\u001b[1;33m\u001b[0m\u001b[0m\n\u001b[1;32m-> 1302\u001b[1;33m                                    status, run_metadata)\n\u001b[0m\u001b[0;32m   1303\u001b[0m \u001b[1;33m\u001b[0m\u001b[0m\n\u001b[0;32m   1304\u001b[0m     \u001b[1;32mdef\u001b[0m \u001b[0m_prun_fn\u001b[0m\u001b[1;33m(\u001b[0m\u001b[0msession\u001b[0m\u001b[1;33m,\u001b[0m \u001b[0mhandle\u001b[0m\u001b[1;33m,\u001b[0m \u001b[0mfeed_dict\u001b[0m\u001b[1;33m,\u001b[0m \u001b[0mfetch_list\u001b[0m\u001b[1;33m)\u001b[0m\u001b[1;33m:\u001b[0m\u001b[1;33m\u001b[0m\u001b[0m\n",
      "\u001b[1;31mKeyboardInterrupt\u001b[0m: "
     ]
    }
   ],
   "source": [
    "tf.estimator.train_and_evaluate(my_estimator, train_spec, test_spec)"
   ]
  },
  {
   "cell_type": "code",
   "execution_count": 286,
   "metadata": {},
   "outputs": [
    {
     "data": {
      "text/plain": [
       "<generator object Estimator.predict at 0x0000017390EF5200>"
      ]
     },
     "execution_count": 286,
     "metadata": {},
     "output_type": "execute_result"
    }
   ],
   "source": [
    "my_estimator.predict(test_input_fn)"
   ]
  },
  {
   "cell_type": "code",
   "execution_count": null,
   "metadata": {},
   "outputs": [],
   "source": [
    "estimator.export_savedmodel(\n",
    "    export_dir_base = \"E:\\\\temp\\\\export\",\n",
    "    serving_input_receiver_fn = csv_serving_input_fn,\n",
    "    as_text=True\n",
    ")"
   ]
  },
  {
   "cell_type": "code",
   "execution_count": 302,
   "metadata": {},
   "outputs": [],
   "source": [
    "predict_input_fn = tf.estimator.inputs.numpy_input_fn(\n",
    "    x=images_batch[0],\n",
    "    num_epochs=1,\n",
    "    shuffle=False)\n",
    "\n",
    "predictions = my_estimator.predict(input_fn=predict_input_fn)"
   ]
  },
  {
   "cell_type": "code",
   "execution_count": 303,
   "metadata": {},
   "outputs": [
    {
     "ename": "TypeError",
     "evalue": "x must be dict; got ndarray",
     "output_type": "error",
     "traceback": [
      "\u001b[1;31m---------------------------------------------------------------------------\u001b[0m",
      "\u001b[1;31mTypeError\u001b[0m                                 Traceback (most recent call last)",
      "\u001b[1;32m<ipython-input-303-10d171bee8fd>\u001b[0m in \u001b[0;36m<module>\u001b[1;34m()\u001b[0m\n\u001b[0;32m      1\u001b[0m \u001b[1;32mimport\u001b[0m \u001b[0mitertools\u001b[0m\u001b[1;33m\u001b[0m\u001b[0m\n\u001b[1;32m----> 2\u001b[1;33m \u001b[0mvalues\u001b[0m \u001b[1;33m=\u001b[0m \u001b[0mlist\u001b[0m\u001b[1;33m(\u001b[0m\u001b[0mmap\u001b[0m\u001b[1;33m(\u001b[0m\u001b[1;32mlambda\u001b[0m \u001b[0mitem\u001b[0m\u001b[1;33m:\u001b[0m \u001b[0mitem\u001b[0m\u001b[1;33m[\u001b[0m\u001b[1;34m\"predictions\"\u001b[0m\u001b[1;33m]\u001b[0m\u001b[1;33m[\u001b[0m\u001b[1;36m0\u001b[0m\u001b[1;33m]\u001b[0m\u001b[1;33m,\u001b[0m\u001b[0mlist\u001b[0m\u001b[1;33m(\u001b[0m\u001b[0mitertools\u001b[0m\u001b[1;33m.\u001b[0m\u001b[0mislice\u001b[0m\u001b[1;33m(\u001b[0m\u001b[0mpredictions\u001b[0m\u001b[1;33m,\u001b[0m \u001b[1;36m5\u001b[0m\u001b[1;33m)\u001b[0m\u001b[1;33m)\u001b[0m\u001b[1;33m)\u001b[0m\u001b[1;33m)\u001b[0m\u001b[1;33m\u001b[0m\u001b[0m\n\u001b[0m",
      "\u001b[1;32mE:\\Miniconda3\\envs\\env3-gpu\\lib\\site-packages\\tensorflow\\python\\estimator\\estimator.py\u001b[0m in \u001b[0;36mpredict\u001b[1;34m(self, input_fn, predict_keys, hooks, checkpoint_path)\u001b[0m\n\u001b[0;32m    407\u001b[0m       \u001b[0mself\u001b[0m\u001b[1;33m.\u001b[0m\u001b[0m_create_and_assert_global_step\u001b[0m\u001b[1;33m(\u001b[0m\u001b[0mg\u001b[0m\u001b[1;33m)\u001b[0m\u001b[1;33m\u001b[0m\u001b[0m\n\u001b[0;32m    408\u001b[0m       features = self._get_features_from_input_fn(\n\u001b[1;32m--> 409\u001b[1;33m           input_fn, model_fn_lib.ModeKeys.PREDICT)\n\u001b[0m\u001b[0;32m    410\u001b[0m       estimator_spec = self._call_model_fn(\n\u001b[0;32m    411\u001b[0m           features, None, model_fn_lib.ModeKeys.PREDICT, self.config)\n",
      "\u001b[1;32mE:\\Miniconda3\\envs\\env3-gpu\\lib\\site-packages\\tensorflow\\python\\estimator\\estimator.py\u001b[0m in \u001b[0;36m_get_features_from_input_fn\u001b[1;34m(self, input_fn, mode)\u001b[0m\n\u001b[0;32m    565\u001b[0m \u001b[1;33m\u001b[0m\u001b[0m\n\u001b[0;32m    566\u001b[0m   \u001b[1;32mdef\u001b[0m \u001b[0m_get_features_from_input_fn\u001b[0m\u001b[1;33m(\u001b[0m\u001b[0mself\u001b[0m\u001b[1;33m,\u001b[0m \u001b[0minput_fn\u001b[0m\u001b[1;33m,\u001b[0m \u001b[0mmode\u001b[0m\u001b[1;33m)\u001b[0m\u001b[1;33m:\u001b[0m\u001b[1;33m\u001b[0m\u001b[0m\n\u001b[1;32m--> 567\u001b[1;33m     \u001b[0mresult\u001b[0m \u001b[1;33m=\u001b[0m \u001b[0mself\u001b[0m\u001b[1;33m.\u001b[0m\u001b[0m_call_input_fn\u001b[0m\u001b[1;33m(\u001b[0m\u001b[0minput_fn\u001b[0m\u001b[1;33m,\u001b[0m \u001b[0mmode\u001b[0m\u001b[1;33m)\u001b[0m\u001b[1;33m\u001b[0m\u001b[0m\n\u001b[0m\u001b[0;32m    568\u001b[0m     \u001b[1;32mif\u001b[0m \u001b[1;32mnot\u001b[0m \u001b[0mops\u001b[0m\u001b[1;33m.\u001b[0m\u001b[0mget_default_graph\u001b[0m\u001b[1;33m(\u001b[0m\u001b[1;33m)\u001b[0m\u001b[1;33m.\u001b[0m\u001b[0mget_collection\u001b[0m\u001b[1;33m(\u001b[0m\u001b[0mops\u001b[0m\u001b[1;33m.\u001b[0m\u001b[0mGraphKeys\u001b[0m\u001b[1;33m.\u001b[0m\u001b[0mQUEUE_RUNNERS\u001b[0m\u001b[1;33m)\u001b[0m\u001b[1;33m:\u001b[0m\u001b[1;33m\u001b[0m\u001b[0m\n\u001b[0;32m    569\u001b[0m       logging.warning('Input graph does not contain a QueueRunner. '\n",
      "\u001b[1;32mE:\\Miniconda3\\envs\\env3-gpu\\lib\\site-packages\\tensorflow\\python\\estimator\\estimator.py\u001b[0m in \u001b[0;36m_call_input_fn\u001b[1;34m(***failed resolving arguments***)\u001b[0m\n\u001b[0;32m    661\u001b[0m       \u001b[0mkwargs\u001b[0m\u001b[1;33m[\u001b[0m\u001b[1;34m'config'\u001b[0m\u001b[1;33m]\u001b[0m \u001b[1;33m=\u001b[0m \u001b[0mself\u001b[0m\u001b[1;33m.\u001b[0m\u001b[0mconfig\u001b[0m\u001b[1;33m\u001b[0m\u001b[0m\n\u001b[0;32m    662\u001b[0m     \u001b[1;32mwith\u001b[0m \u001b[0mops\u001b[0m\u001b[1;33m.\u001b[0m\u001b[0mdevice\u001b[0m\u001b[1;33m(\u001b[0m\u001b[1;34m'/cpu:0'\u001b[0m\u001b[1;33m)\u001b[0m\u001b[1;33m:\u001b[0m\u001b[1;33m\u001b[0m\u001b[0m\n\u001b[1;32m--> 663\u001b[1;33m       \u001b[1;32mreturn\u001b[0m \u001b[0minput_fn\u001b[0m\u001b[1;33m(\u001b[0m\u001b[1;33m**\u001b[0m\u001b[0mkwargs\u001b[0m\u001b[1;33m)\u001b[0m\u001b[1;33m\u001b[0m\u001b[0m\n\u001b[0m\u001b[0;32m    664\u001b[0m \u001b[1;33m\u001b[0m\u001b[0m\n\u001b[0;32m    665\u001b[0m   \u001b[1;32mdef\u001b[0m \u001b[0m_call_model_fn\u001b[0m\u001b[1;33m(\u001b[0m\u001b[0mself\u001b[0m\u001b[1;33m,\u001b[0m \u001b[0mfeatures\u001b[0m\u001b[1;33m,\u001b[0m \u001b[0mlabels\u001b[0m\u001b[1;33m,\u001b[0m \u001b[0mmode\u001b[0m\u001b[1;33m,\u001b[0m \u001b[0mconfig\u001b[0m\u001b[1;33m)\u001b[0m\u001b[1;33m:\u001b[0m\u001b[1;33m\u001b[0m\u001b[0m\n",
      "\u001b[1;32mE:\\Miniconda3\\envs\\env3-gpu\\lib\\site-packages\\tensorflow\\python\\estimator\\inputs\\numpy_io.py\u001b[0m in \u001b[0;36minput_fn\u001b[1;34m()\u001b[0m\n\u001b[0;32m     97\u001b[0m     \u001b[1;34m\"\"\"Numpy input function.\"\"\"\u001b[0m\u001b[1;33m\u001b[0m\u001b[0m\n\u001b[0;32m     98\u001b[0m     \u001b[1;32mif\u001b[0m \u001b[1;32mnot\u001b[0m \u001b[0misinstance\u001b[0m\u001b[1;33m(\u001b[0m\u001b[0mx\u001b[0m\u001b[1;33m,\u001b[0m \u001b[0mdict\u001b[0m\u001b[1;33m)\u001b[0m\u001b[1;33m:\u001b[0m\u001b[1;33m\u001b[0m\u001b[0m\n\u001b[1;32m---> 99\u001b[1;33m       \u001b[1;32mraise\u001b[0m \u001b[0mTypeError\u001b[0m\u001b[1;33m(\u001b[0m\u001b[1;34m'x must be dict; got {}'\u001b[0m\u001b[1;33m.\u001b[0m\u001b[0mformat\u001b[0m\u001b[1;33m(\u001b[0m\u001b[0mtype\u001b[0m\u001b[1;33m(\u001b[0m\u001b[0mx\u001b[0m\u001b[1;33m)\u001b[0m\u001b[1;33m.\u001b[0m\u001b[0m__name__\u001b[0m\u001b[1;33m)\u001b[0m\u001b[1;33m)\u001b[0m\u001b[1;33m\u001b[0m\u001b[0m\n\u001b[0m\u001b[0;32m    100\u001b[0m \u001b[1;33m\u001b[0m\u001b[0m\n\u001b[0;32m    101\u001b[0m     \u001b[1;31m# Make a shadow copy and also ensure the order of iteration is consistent.\u001b[0m\u001b[1;33m\u001b[0m\u001b[1;33m\u001b[0m\u001b[0m\n",
      "\u001b[1;31mTypeError\u001b[0m: x must be dict; got ndarray"
     ]
    }
   ],
   "source": [
    "import itertools\n",
    "values = list(map(lambda item: item[\"predictions\"][0],list(itertools.islice(predictions, 5))))"
   ]
  },
  {
   "cell_type": "code",
   "execution_count": 304,
   "metadata": {},
   "outputs": [
    {
     "data": {
      "text/plain": [
       "<generator object Estimator.predict at 0x000001739060FDB0>"
      ]
     },
     "execution_count": 304,
     "metadata": {},
     "output_type": "execute_result"
    }
   ],
   "source": [
    "predictions"
   ]
  },
  {
   "cell_type": "code",
   "execution_count": 306,
   "metadata": {},
   "outputs": [
    {
     "data": {
      "text/plain": [
       "[]"
      ]
     },
     "execution_count": 306,
     "metadata": {},
     "output_type": "execute_result"
    }
   ],
   "source": [
    "list(itertools.islice(predictions, 5))"
   ]
  },
  {
   "cell_type": "code",
   "execution_count": null,
   "metadata": {},
   "outputs": [],
   "source": []
  },
  {
   "cell_type": "code",
   "execution_count": null,
   "metadata": {},
   "outputs": [],
   "source": []
  },
  {
   "cell_type": "code",
   "execution_count": null,
   "metadata": {},
   "outputs": [],
   "source": []
  },
  {
   "cell_type": "code",
   "execution_count": null,
   "metadata": {},
   "outputs": [],
   "source": []
  },
  {
   "cell_type": "code",
   "execution_count": null,
   "metadata": {},
   "outputs": [],
   "source": []
  }
 ],
 "metadata": {
  "kernelspec": {
   "display_name": "Python 3",
   "language": "python",
   "name": "python3"
  },
  "language_info": {
   "codemirror_mode": {
    "name": "ipython",
    "version": 3
   },
   "file_extension": ".py",
   "mimetype": "text/x-python",
   "name": "python",
   "nbconvert_exporter": "python",
   "pygments_lexer": "ipython3",
   "version": "3.5.4"
  },
  "widgets": {
   "state": {},
   "version": "1.1.2"
  }
 },
 "nbformat": 4,
 "nbformat_minor": 2
}
