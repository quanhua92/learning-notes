{
 "cells": [
  {
   "cell_type": "code",
   "execution_count": 17,
   "metadata": {
    "scrolled": true
   },
   "outputs": [],
   "source": [
    "from keras.layers import Input, Dense, Conv2D, MaxPooling2D, UpSampling2D\n",
    "from keras.models import Model\n",
    "from keras import backend as K\n",
    "from keras import regularizers"
   ]
  },
  {
   "cell_type": "code",
   "execution_count": 2,
   "metadata": {
    "scrolled": true
   },
   "outputs": [],
   "source": [
    "encoding_dim = 32"
   ]
  },
  {
   "cell_type": "code",
   "execution_count": 3,
   "metadata": {
    "scrolled": true
   },
   "outputs": [],
   "source": [
    "# input_img = Input(shape=(784, ))\n",
    "\n",
    "# ## 1 simplest\n",
    "# #encoded = Dense(encoding_dim, activation='relu')(input_img)\n",
    "\n",
    "# ## 2 add sparsity constraint\n",
    "# #encoded = Dense(encoding_dim, activation='relu',\n",
    "# #               activity_regularizer=regularizers.l1(10e-5))(input_img)\n",
    "# # decoded = Dense(784, activation='sigmoid')(encoded)\n",
    "\n",
    "# ## 3 deeper\n",
    "# encoded = Dense(128, activation='relu')(input_img)\n",
    "# encoded = Dense(64, activation='relu')(encoded)\n",
    "# encoded = Dense(32, activation='relu')(encoded)\n",
    "\n",
    "# decoded = Dense(64, activation='relu')(encoded)\n",
    "# decoded = Dense(128, activation='relu')(decoded)\n",
    "# decoded = Dense(784, activation='sigmoid')(decoded)\n",
    "\n",
    "# autoencoder = Model(input_img, decoded)"
   ]
  },
  {
   "cell_type": "code",
   "execution_count": null,
   "metadata": {},
   "outputs": [],
   "source": [
    "input_img = Input(shape=(28 ,28 , 1))\n",
    "\n",
    "x = Conv2D(16, (3, 3), activation='relu', padding='same')(input_img)\n",
    "x = MaxPooling2D((2, 2), padding='same')(x)\n"
   ]
  },
  {
   "cell_type": "code",
   "execution_count": 4,
   "metadata": {
    "scrolled": true
   },
   "outputs": [],
   "source": [
    "encoder = Model(input_img, encoded)"
   ]
  },
  {
   "cell_type": "code",
   "execution_count": 7,
   "metadata": {
    "scrolled": true
   },
   "outputs": [],
   "source": [
    "encoded_input = Input(shape=(encoding_dim, ))\n",
    "\n",
    "decoder_layer = autoencoder.layers[-3](encoded_input)\n",
    "decoder_layer = autoencoder.layers[-2](decoder_layer)\n",
    "decoder_layer = autoencoder.layers[-1](decoder_layer)\n",
    "\n",
    "decoder = Model(encoded_input, decoder_layer)"
   ]
  },
  {
   "cell_type": "code",
   "execution_count": 8,
   "metadata": {
    "scrolled": true
   },
   "outputs": [],
   "source": [
    "autoencoder.compile(optimizer='adadelta', loss='binary_crossentropy')"
   ]
  },
  {
   "cell_type": "code",
   "execution_count": 9,
   "metadata": {
    "scrolled": true
   },
   "outputs": [],
   "source": [
    "from keras.datasets import mnist"
   ]
  },
  {
   "cell_type": "code",
   "execution_count": 10,
   "metadata": {
    "scrolled": true
   },
   "outputs": [],
   "source": [
    "import numpy as np"
   ]
  },
  {
   "cell_type": "code",
   "execution_count": 11,
   "metadata": {
    "scrolled": true
   },
   "outputs": [],
   "source": [
    "(x_train, _), (x_test, _) = mnist.load_data()"
   ]
  },
  {
   "cell_type": "code",
   "execution_count": 12,
   "metadata": {
    "scrolled": true
   },
   "outputs": [
    {
     "name": "stdout",
     "output_type": "stream",
     "text": [
      "(60000, 784)\n",
      "(10000, 784)\n"
     ]
    }
   ],
   "source": [
    "x_train = x_train.astype('float32') / 255.\n",
    "x_test = x_test.astype('float32') / 255.\n",
    "\n",
    "x_train = x_train.reshape((len(x_train), np.prod(x_train.shape[1:])))\n",
    "x_test = x_test.reshape((len(x_test), np.prod(x_test.shape[1:])))\n",
    "\n",
    "print(x_train.shape)\n",
    "print(x_test.shape)"
   ]
  },
  {
   "cell_type": "code",
   "execution_count": 13,
   "metadata": {
    "scrolled": true
   },
   "outputs": [
    {
     "name": "stdout",
     "output_type": "stream",
     "text": [
      "Train on 60000 samples, validate on 10000 samples\n",
      "Epoch 1/100\n",
      "60000/60000 [==============================] - 3s 51us/step - loss: 0.3343 - val_loss: 0.2629\n",
      "Epoch 2/100\n",
      "60000/60000 [==============================] - 1s 21us/step - loss: 0.2567 - val_loss: 0.2499\n",
      "Epoch 3/100\n",
      "60000/60000 [==============================] - 1s 21us/step - loss: 0.2403 - val_loss: 0.2291\n",
      "Epoch 4/100\n",
      "60000/60000 [==============================] - 1s 21us/step - loss: 0.2194 - val_loss: 0.2106\n",
      "Epoch 5/100\n",
      "60000/60000 [==============================] - 1s 21us/step - loss: 0.2076 - val_loss: 0.2001\n",
      "Epoch 6/100\n",
      "60000/60000 [==============================] - 1s 21us/step - loss: 0.1977 - val_loss: 0.1922\n",
      "Epoch 7/100\n",
      "60000/60000 [==============================] - 1s 21us/step - loss: 0.1876 - val_loss: 0.1832\n",
      "Epoch 8/100\n",
      "60000/60000 [==============================] - 1s 21us/step - loss: 0.1800 - val_loss: 0.1805\n",
      "Epoch 9/100\n",
      "60000/60000 [==============================] - 1s 21us/step - loss: 0.1735 - val_loss: 0.1696\n",
      "Epoch 10/100\n",
      "60000/60000 [==============================] - 1s 21us/step - loss: 0.1677 - val_loss: 0.1640\n",
      "Epoch 11/100\n",
      "60000/60000 [==============================] - 1s 21us/step - loss: 0.1629 - val_loss: 0.1577\n",
      "Epoch 12/100\n",
      "60000/60000 [==============================] - 1s 21us/step - loss: 0.1587 - val_loss: 0.1549\n",
      "Epoch 13/100\n",
      "60000/60000 [==============================] - 1s 21us/step - loss: 0.1553 - val_loss: 0.1521\n",
      "Epoch 14/100\n",
      "60000/60000 [==============================] - 1s 22us/step - loss: 0.1520 - val_loss: 0.1489\n",
      "Epoch 15/100\n",
      "60000/60000 [==============================] - 1s 22us/step - loss: 0.1494 - val_loss: 0.1482\n",
      "Epoch 16/100\n",
      "60000/60000 [==============================] - 1s 22us/step - loss: 0.1472 - val_loss: 0.1461\n",
      "Epoch 17/100\n",
      "60000/60000 [==============================] - 1s 21us/step - loss: 0.1455 - val_loss: 0.1449\n",
      "Epoch 18/100\n",
      "60000/60000 [==============================] - 1s 21us/step - loss: 0.1440 - val_loss: 0.1429\n",
      "Epoch 19/100\n",
      "60000/60000 [==============================] - 1s 21us/step - loss: 0.1425 - val_loss: 0.1408\n",
      "Epoch 20/100\n",
      "60000/60000 [==============================] - 1s 24us/step - loss: 0.1410 - val_loss: 0.1408\n",
      "Epoch 21/100\n",
      "60000/60000 [==============================] - 2s 26us/step - loss: 0.1395 - val_loss: 0.1387\n",
      "Epoch 22/100\n",
      "60000/60000 [==============================] - 1s 23us/step - loss: 0.1378 - val_loss: 0.1356\n",
      "Epoch 23/100\n",
      "60000/60000 [==============================] - 1s 22us/step - loss: 0.1362 - val_loss: 0.1332\n",
      "Epoch 24/100\n",
      "60000/60000 [==============================] - 1s 22us/step - loss: 0.1347 - val_loss: 0.1327\n",
      "Epoch 25/100\n",
      "60000/60000 [==============================] - 1s 22us/step - loss: 0.1333 - val_loss: 0.1308\n",
      "Epoch 26/100\n",
      "60000/60000 [==============================] - 1s 23us/step - loss: 0.1317 - val_loss: 0.1299\n",
      "Epoch 27/100\n",
      "60000/60000 [==============================] - 1s 21us/step - loss: 0.1303 - val_loss: 0.1280\n",
      "Epoch 28/100\n",
      "60000/60000 [==============================] - 1s 22us/step - loss: 0.1288 - val_loss: 0.1261\n",
      "Epoch 29/100\n",
      "60000/60000 [==============================] - 1s 21us/step - loss: 0.1275 - val_loss: 0.1254\n",
      "Epoch 30/100\n",
      "60000/60000 [==============================] - 1s 21us/step - loss: 0.1262 - val_loss: 0.1249\n",
      "Epoch 31/100\n",
      "60000/60000 [==============================] - 1s 21us/step - loss: 0.1252 - val_loss: 0.1225\n",
      "Epoch 32/100\n",
      "60000/60000 [==============================] - 1s 21us/step - loss: 0.1243 - val_loss: 0.1223\n",
      "Epoch 33/100\n",
      "60000/60000 [==============================] - 1s 21us/step - loss: 0.1233 - val_loss: 0.1207\n",
      "Epoch 34/100\n",
      "60000/60000 [==============================] - 1s 22us/step - loss: 0.1224 - val_loss: 0.1212\n",
      "Epoch 35/100\n",
      "60000/60000 [==============================] - 1s 21us/step - loss: 0.1220 - val_loss: 0.1200\n",
      "Epoch 36/100\n",
      "60000/60000 [==============================] - 1s 21us/step - loss: 0.1210 - val_loss: 0.1189\n",
      "Epoch 37/100\n",
      "60000/60000 [==============================] - 1s 22us/step - loss: 0.1205 - val_loss: 0.1185\n",
      "Epoch 38/100\n",
      "60000/60000 [==============================] - 2s 32us/step - loss: 0.1199 - val_loss: 0.1178\n",
      "Epoch 39/100\n",
      "60000/60000 [==============================] - 1s 22us/step - loss: 0.1193 - val_loss: 0.1177\n",
      "Epoch 40/100\n",
      "60000/60000 [==============================] - 2s 27us/step - loss: 0.1187 - val_loss: 0.1187\n",
      "Epoch 41/100\n",
      "60000/60000 [==============================] - 2s 28us/step - loss: 0.1181 - val_loss: 0.1163\n",
      "Epoch 42/100\n",
      "60000/60000 [==============================] - 2s 30us/step - loss: 0.1176 - val_loss: 0.1149\n",
      "Epoch 43/100\n",
      "60000/60000 [==============================] - 2s 27us/step - loss: 0.1170 - val_loss: 0.1154\n",
      "Epoch 44/100\n",
      "60000/60000 [==============================] - 1s 22us/step - loss: 0.1166 - val_loss: 0.1136\n",
      "Epoch 45/100\n",
      "60000/60000 [==============================] - 1s 22us/step - loss: 0.1162 - val_loss: 0.1166\n",
      "Epoch 46/100\n",
      "60000/60000 [==============================] - 1s 22us/step - loss: 0.1156 - val_loss: 0.1137\n",
      "Epoch 47/100\n",
      "60000/60000 [==============================] - 1s 22us/step - loss: 0.1152 - val_loss: 0.1140\n",
      "Epoch 48/100\n",
      "60000/60000 [==============================] - 1s 23us/step - loss: 0.1148 - val_loss: 0.1153\n",
      "Epoch 49/100\n",
      "60000/60000 [==============================] - 1s 23us/step - loss: 0.1144 - val_loss: 0.1126\n",
      "Epoch 50/100\n",
      "60000/60000 [==============================] - 1s 23us/step - loss: 0.1139 - val_loss: 0.1121\n",
      "Epoch 51/100\n",
      "60000/60000 [==============================] - 1s 24us/step - loss: 0.1136 - val_loss: 0.1118\n",
      "Epoch 52/100\n",
      "60000/60000 [==============================] - 2s 25us/step - loss: 0.1131 - val_loss: 0.1112\n",
      "Epoch 53/100\n",
      "60000/60000 [==============================] - 1s 22us/step - loss: 0.1127 - val_loss: 0.1124\n",
      "Epoch 54/100\n",
      "60000/60000 [==============================] - 1s 22us/step - loss: 0.1123 - val_loss: 0.1110\n",
      "Epoch 55/100\n",
      "60000/60000 [==============================] - 1s 21us/step - loss: 0.1119 - val_loss: 0.1124\n",
      "Epoch 56/100\n",
      "60000/60000 [==============================] - 1s 23us/step - loss: 0.1116 - val_loss: 0.1101\n",
      "Epoch 57/100\n",
      "60000/60000 [==============================] - 2s 31us/step - loss: 0.1113 - val_loss: 0.1088\n",
      "Epoch 58/100\n",
      "60000/60000 [==============================] - 2s 26us/step - loss: 0.1109 - val_loss: 0.1099\n",
      "Epoch 59/100\n",
      "60000/60000 [==============================] - 1s 23us/step - loss: 0.1106 - val_loss: 0.1094\n",
      "Epoch 60/100\n",
      "60000/60000 [==============================] - 1s 22us/step - loss: 0.1103 - val_loss: 0.1077\n",
      "Epoch 61/100\n",
      "60000/60000 [==============================] - 1s 22us/step - loss: 0.1099 - val_loss: 0.1084\n",
      "Epoch 62/100\n",
      "60000/60000 [==============================] - 1s 22us/step - loss: 0.1095 - val_loss: 0.1083\n",
      "Epoch 63/100\n",
      "60000/60000 [==============================] - 1s 22us/step - loss: 0.1094 - val_loss: 0.1083\n",
      "Epoch 64/100\n",
      "60000/60000 [==============================] - 1s 24us/step - loss: 0.1090 - val_loss: 0.1066\n",
      "Epoch 65/100\n",
      "60000/60000 [==============================] - 1s 22us/step - loss: 0.1087 - val_loss: 0.1089\n",
      "Epoch 66/100\n",
      "60000/60000 [==============================] - 1s 22us/step - loss: 0.1085 - val_loss: 0.1070\n",
      "Epoch 67/100\n",
      "60000/60000 [==============================] - 1s 22us/step - loss: 0.1082 - val_loss: 0.1067\n",
      "Epoch 68/100\n",
      "60000/60000 [==============================] - 1s 22us/step - loss: 0.1079 - val_loss: 0.1062\n",
      "Epoch 69/100\n",
      "60000/60000 [==============================] - 1s 22us/step - loss: 0.1076 - val_loss: 0.1074\n",
      "Epoch 70/100\n",
      "60000/60000 [==============================] - 1s 22us/step - loss: 0.1073 - val_loss: 0.1070\n",
      "Epoch 71/100\n",
      "60000/60000 [==============================] - 1s 22us/step - loss: 0.1071 - val_loss: 0.1064\n",
      "Epoch 72/100\n",
      "60000/60000 [==============================] - 1s 22us/step - loss: 0.1068 - val_loss: 0.1064\n",
      "Epoch 73/100\n",
      "60000/60000 [==============================] - 1s 22us/step - loss: 0.1065 - val_loss: 0.1052\n",
      "Epoch 74/100\n",
      "60000/60000 [==============================] - 1s 23us/step - loss: 0.1062 - val_loss: 0.1062\n",
      "Epoch 75/100\n",
      "60000/60000 [==============================] - 1s 23us/step - loss: 0.1061 - val_loss: 0.1044\n",
      "Epoch 76/100\n",
      "60000/60000 [==============================] - 1s 24us/step - loss: 0.1057 - val_loss: 0.1052\n",
      "Epoch 77/100\n"
     ]
    },
    {
     "name": "stdout",
     "output_type": "stream",
     "text": [
      "60000/60000 [==============================] - 2s 26us/step - loss: 0.1055 - val_loss: 0.1042\n",
      "Epoch 78/100\n",
      "60000/60000 [==============================] - 1s 23us/step - loss: 0.1052 - val_loss: 0.1036\n",
      "Epoch 79/100\n",
      "60000/60000 [==============================] - 1s 25us/step - loss: 0.1050 - val_loss: 0.1027\n",
      "Epoch 80/100\n",
      "60000/60000 [==============================] - 1s 24us/step - loss: 0.1047 - val_loss: 0.1042\n",
      "Epoch 81/100\n",
      "60000/60000 [==============================] - 1s 23us/step - loss: 0.1044 - val_loss: 0.1031\n",
      "Epoch 82/100\n",
      "60000/60000 [==============================] - 1s 23us/step - loss: 0.1041 - val_loss: 0.1026\n",
      "Epoch 83/100\n",
      "60000/60000 [==============================] - 1s 23us/step - loss: 0.1040 - val_loss: 0.1030\n",
      "Epoch 84/100\n",
      "60000/60000 [==============================] - 1s 22us/step - loss: 0.1038 - val_loss: 0.1032\n",
      "Epoch 85/100\n",
      "60000/60000 [==============================] - 1s 22us/step - loss: 0.1037 - val_loss: 0.1047\n",
      "Epoch 86/100\n",
      "60000/60000 [==============================] - 1s 23us/step - loss: 0.1035 - val_loss: 0.1052\n",
      "Epoch 87/100\n",
      "60000/60000 [==============================] - 1s 23us/step - loss: 0.1032 - val_loss: 0.1026\n",
      "Epoch 88/100\n",
      "60000/60000 [==============================] - 1s 22us/step - loss: 0.1030 - val_loss: 0.1018\n",
      "Epoch 89/100\n",
      "60000/60000 [==============================] - 1s 23us/step - loss: 0.1030 - val_loss: 0.1028\n",
      "Epoch 90/100\n",
      "60000/60000 [==============================] - 1s 23us/step - loss: 0.1027 - val_loss: 0.1023\n",
      "Epoch 91/100\n",
      "60000/60000 [==============================] - 1s 22us/step - loss: 0.1026 - val_loss: 0.1014\n",
      "Epoch 92/100\n",
      "60000/60000 [==============================] - 1s 22us/step - loss: 0.1024 - val_loss: 0.1012\n",
      "Epoch 93/100\n",
      "60000/60000 [==============================] - 1s 22us/step - loss: 0.1023 - val_loss: 0.1021\n",
      "Epoch 94/100\n",
      "60000/60000 [==============================] - 1s 22us/step - loss: 0.1022 - val_loss: 0.1009\n",
      "Epoch 95/100\n",
      "60000/60000 [==============================] - 1s 22us/step - loss: 0.1019 - val_loss: 0.1016\n",
      "Epoch 96/100\n",
      "60000/60000 [==============================] - 1s 22us/step - loss: 0.1018 - val_loss: 0.1030\n",
      "Epoch 97/100\n",
      "60000/60000 [==============================] - 1s 22us/step - loss: 0.1016 - val_loss: 0.1006\n",
      "Epoch 98/100\n",
      "60000/60000 [==============================] - 1s 22us/step - loss: 0.1015 - val_loss: 0.1008\n",
      "Epoch 99/100\n",
      "60000/60000 [==============================] - 1s 22us/step - loss: 0.1013 - val_loss: 0.1014\n",
      "Epoch 100/100\n",
      "60000/60000 [==============================] - 1s 22us/step - loss: 0.1013 - val_loss: 0.1014\n"
     ]
    },
    {
     "data": {
      "text/plain": [
       "<keras.callbacks.History at 0x1a760d53780>"
      ]
     },
     "execution_count": 13,
     "metadata": {},
     "output_type": "execute_result"
    }
   ],
   "source": [
    "autoencoder.fit(x_train, x_train, epochs=100, batch_size=256, shuffle=True, validation_data=(x_test, x_test))"
   ]
  },
  {
   "cell_type": "code",
   "execution_count": 14,
   "metadata": {},
   "outputs": [],
   "source": [
    "encoded_imgs = encoder.predict(x_test)\n",
    "\n",
    "decoded_imgs = decoder.predict(encoded_imgs)"
   ]
  },
  {
   "cell_type": "code",
   "execution_count": 15,
   "metadata": {
    "scrolled": true
   },
   "outputs": [],
   "source": [
    "import matplotlib.pyplot as plt"
   ]
  },
  {
   "cell_type": "code",
   "execution_count": 16,
   "metadata": {
    "scrolled": true
   },
   "outputs": [
    {
     "data": {
      "image/png": "[encoded data removed]",
      "text/plain": [
       "<Figure size 1440x288 with 20 Axes>"
      ]
     },
     "metadata": {},
     "output_type": "display_data"
    }
   ],
   "source": [
    "n = 10\n",
    "\n",
    "plt.figure(figsize=(20, 4))\n",
    "\n",
    "for i in range(n):\n",
    "    ax = plt.subplot(2, n, i + 1)\n",
    "    plt.imshow(x_test[i].reshape(28, 28))\n",
    "    plt.gray()\n",
    "    ax.get_xaxis().set_visible(False)\n",
    "    ax.get_yaxis().set_visible(False)\n",
    "    \n",
    "    ax = plt.subplot(2, n, i + 1 + n)\n",
    "    plt.imshow(decoded_imgs[i].reshape(28, 28))\n",
    "    plt.gray()\n",
    "    ax.get_xaxis().set_visible(False)\n",
    "    ax.get_yaxis().set_visible(False)\n",
    "plt.show()"
   ]
  },
  {
   "cell_type": "code",
   "execution_count": null,
   "metadata": {
    "scrolled": true
   },
   "outputs": [],
   "source": []
  }
 ],
 "metadata": {
  "kernelspec": {
   "display_name": "Python 3",
   "language": "python",
   "name": "python3"
  },
  "language_info": {
   "codemirror_mode": {
    "name": "ipython",
    "version": 3
   },
   "file_extension": ".py",
   "mimetype": "text/x-python",
   "name": "python",
   "nbconvert_exporter": "python",
   "pygments_lexer": "ipython3",
   "version": "3.6.5"
  }
 },
 "nbformat": 4,
 "nbformat_minor": 2
}
